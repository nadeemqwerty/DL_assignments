{
 "cells": [
  {
   "cell_type": "code",
   "execution_count": 1,
   "metadata": {},
   "outputs": [
    {
     "name": "stderr",
     "output_type": "stream",
     "text": [
      "Using TensorFlow backend.\n"
     ]
    },
    {
     "name": "stdout",
     "output_type": "stream",
     "text": [
      "(33600, 28, 28, 3)\n",
      "(33600, 96)\n",
      "(14400, 28, 28, 3)\n",
      "(14400, 96)\n"
     ]
    }
   ],
   "source": [
    "from __future__ import print_function\n",
    "from keras import backend as K\n",
    "import tensorflow as tf\n",
    "mnist = tf.keras.datasets.mnist\n",
    "import numpy as np\n",
    "from sklearn.metrics import accuracy_score, f1_score, precision_score, recall_score, classification_report, confusion_matrix\n",
    "import matplotlib.pyplot as plt\n",
    "from tensorflow.keras.preprocessing.image import *\n",
    "\n",
    "epochs = 16\n",
    "batch_size = 64\n",
    "\n",
    "x_train = np.load(\"here/train.npy\")\n",
    "y_train = np.load(\"here/Y_train.npy\")\n",
    "x_test = np.load(\"here/test.npy\")\n",
    "y_test = np.load(\"here/Y_test.npy\")\n",
    "\n",
    "print(x_train.shape)\n",
    "print(y_train.shape)\n",
    "print(x_test.shape)\n",
    "print(y_test.shape)\n"
   ]
  },
  {
   "cell_type": "code",
   "execution_count": 2,
   "metadata": {},
   "outputs": [
    {
     "name": "stdout",
     "output_type": "stream",
     "text": [
      "WARNING:tensorflow:From /home/nadeemqwerty/.local/lib/python3.7/site-packages/tensorflow/python/ops/resource_variable_ops.py:435: colocate_with (from tensorflow.python.framework.ops) is deprecated and will be removed in a future version.\n",
      "Instructions for updating:\n",
      "Colocations handled automatically by placer.\n",
      "_________________________________________________________________\n",
      "Layer (type)                 Output Shape              Param #   \n",
      "=================================================================\n",
      "conv2d (Conv2D)              (None, 28, 28, 32)        4736      \n",
      "_________________________________________________________________\n",
      "batch_normalization_v1 (Batc (None, 28, 28, 32)        128       \n",
      "_________________________________________________________________\n",
      "max_pooling2d (MaxPooling2D) (None, 14, 14, 32)        0         \n",
      "_________________________________________________________________\n",
      "flatten (Flatten)            (None, 6272)              0         \n",
      "_________________________________________________________________\n",
      "dense (Dense)                (None, 1024)              6423552   \n",
      "_________________________________________________________________\n",
      "dense_1 (Dense)              (None, 96)                98400     \n",
      "=================================================================\n",
      "Total params: 6,526,816\n",
      "Trainable params: 6,526,752\n",
      "Non-trainable params: 64\n",
      "_________________________________________________________________\n"
     ]
    }
   ],
   "source": [
    "model = tf.keras.models.Sequential([\n",
    "  tf.keras.layers.Conv2D(filters = 32, kernel_size=(7,7), padding='Same', activation = 'relu', input_shape = (28,28,3)),\n",
    "  tf.keras.layers.BatchNormalization(),\n",
    "  tf.keras.layers.MaxPool2D(pool_size=(2, 2), strides=(2,2)),\n",
    "  tf.keras.layers.Flatten(),\n",
    "#   tf.keras.layers.Dropout(0.5),\n",
    "  tf.keras.layers.Dense(1024, activation=tf.nn.relu),\n",
    "#   tf.keras.layers.Dropout(0.5),\n",
    "  tf.keras.layers.Dense(96, activation=tf.nn.softmax)\n",
    "])\n",
    "model.compile(optimizer='adam',\n",
    "              loss='categorical_crossentropy',\n",
    "              metrics=['accuracy'])\n",
    "# summarize history for accuracy\n",
    "model.summary()"
   ]
  },
  {
   "cell_type": "code",
   "execution_count": 3,
   "metadata": {},
   "outputs": [
    {
     "name": "stdout",
     "output_type": "stream",
     "text": [
      "WARNING:tensorflow:From /home/nadeemqwerty/.local/lib/python3.7/site-packages/tensorflow/python/ops/math_ops.py:3066: to_int32 (from tensorflow.python.ops.math_ops) is deprecated and will be removed in a future version.\n",
      "Instructions for updating:\n",
      "Use tf.cast instead.\n",
      "Epoch 1/16\n",
      "14400/14400 [==============================] - 1s 66us/sample - loss: 0.6402 - acc: 0.8348\n",
      "525/525 [==============================] - 14s 27ms/step - loss: 1.4051 - acc: 0.5793 - val_loss: 0.6402 - val_acc: 0.8348\n",
      "Epoch 2/16\n",
      "14400/14400 [==============================] - 1s 60us/sample - loss: 0.4405 - acc: 0.8315\n",
      "525/525 [==============================] - 13s 24ms/step - loss: 0.4109 - acc: 0.8425 - val_loss: 0.4405 - val_acc: 0.8315\n",
      "Epoch 3/16\n",
      "14400/14400 [==============================] - 1s 56us/sample - loss: 0.5476 - acc: 0.8226\n",
      "525/525 [==============================] - 12s 23ms/step - loss: 0.3434 - acc: 0.8752 - val_loss: 0.5476 - val_acc: 0.8226\n",
      "Epoch 4/16\n",
      "14400/14400 [==============================] - 1s 57us/sample - loss: 0.1906 - acc: 0.9286\n",
      "525/525 [==============================] - 12s 24ms/step - loss: 0.2574 - acc: 0.9036 - val_loss: 0.1906 - val_acc: 0.9286\n",
      "Epoch 5/16\n",
      "14400/14400 [==============================] - 1s 58us/sample - loss: 0.2056 - acc: 0.9231\n",
      "525/525 [==============================] - 12s 23ms/step - loss: 0.2275 - acc: 0.9164 - val_loss: 0.2056 - val_acc: 0.9231\n",
      "Epoch 6/16\n",
      "14400/14400 [==============================] - 1s 57us/sample - loss: 0.1520 - acc: 0.9442\n",
      "525/525 [==============================] - 12s 23ms/step - loss: 0.1929 - acc: 0.9316 - val_loss: 0.1520 - val_acc: 0.9442\n",
      "Epoch 7/16\n",
      "14400/14400 [==============================] - 1s 61us/sample - loss: 0.2114 - acc: 0.9289\n",
      "525/525 [==============================] - 12s 24ms/step - loss: 0.1970 - acc: 0.9318 - val_loss: 0.2114 - val_acc: 0.9289\n",
      "Epoch 8/16\n",
      "14400/14400 [==============================] - 1s 58us/sample - loss: 0.2207 - acc: 0.9283\n",
      "525/525 [==============================] - 12s 23ms/step - loss: 0.1909 - acc: 0.9354 - val_loss: 0.2207 - val_acc: 0.9283\n",
      "Epoch 9/16\n",
      "14400/14400 [==============================] - 1s 58us/sample - loss: 0.1955 - acc: 0.9426\n",
      "525/525 [==============================] - 12s 24ms/step - loss: 0.1630 - acc: 0.9454 - val_loss: 0.1955 - val_acc: 0.9426\n",
      "Epoch 10/16\n",
      "14400/14400 [==============================] - 1s 59us/sample - loss: 0.1123 - acc: 0.9600\n",
      "525/525 [==============================] - 12s 24ms/step - loss: 0.1576 - acc: 0.9469 - val_loss: 0.1123 - val_acc: 0.9600\n",
      "Epoch 11/16\n",
      "14400/14400 [==============================] - 1s 58us/sample - loss: 0.1065 - acc: 0.9667\n",
      "525/525 [==============================] - 12s 24ms/step - loss: 0.1540 - acc: 0.9491 - val_loss: 0.1065 - val_acc: 0.9667\n",
      "Epoch 12/16\n",
      "14400/14400 [==============================] - 1s 59us/sample - loss: 0.1108 - acc: 0.9676\n",
      "525/525 [==============================] - 12s 23ms/step - loss: 0.1356 - acc: 0.9562 - val_loss: 0.1108 - val_acc: 0.9676\n",
      "Epoch 13/16\n",
      "14400/14400 [==============================] - 1s 57us/sample - loss: 0.0855 - acc: 0.9729\n",
      "525/525 [==============================] - 12s 23ms/step - loss: 0.1265 - acc: 0.9583 - val_loss: 0.0855 - val_acc: 0.9729\n",
      "Epoch 14/16\n",
      "14400/14400 [==============================] - 1s 57us/sample - loss: 0.2419 - acc: 0.9435\n",
      "525/525 [==============================] - 12s 24ms/step - loss: 0.1261 - acc: 0.9599 - val_loss: 0.2419 - val_acc: 0.9435\n",
      "Epoch 15/16\n",
      "14400/14400 [==============================] - 1s 58us/sample - loss: 0.0495 - acc: 0.9835\n",
      "525/525 [==============================] - 12s 23ms/step - loss: 0.1155 - acc: 0.9624 - val_loss: 0.0495 - val_acc: 0.9835\n",
      "Epoch 16/16\n",
      "14400/14400 [==============================] - 1s 54us/sample - loss: 0.0470 - acc: 0.9862\n",
      "525/525 [==============================] - 12s 23ms/step - loss: 0.1296 - acc: 0.9600 - val_loss: 0.0470 - val_acc: 0.9862\n"
     ]
    }
   ],
   "source": [
    "datagen = ImageDataGenerator(\n",
    "    rotation_range=2,\n",
    "    width_shift_range=0.1,\n",
    "    shear_range = 0.1,\n",
    "    zoom_range = 0.1,\n",
    "    height_shift_range=0.1)\n",
    "\n",
    "\n",
    "datagen.fit(x_train)\n",
    "\n",
    "history = model.fit_generator(datagen.flow(x_train, y_train, batch_size=batch_size),\n",
    "                    steps_per_epoch=len(x_train) / batch_size, epochs=epochs, validation_data=(x_test,y_test))"
   ]
  },
  {
   "cell_type": "code",
   "execution_count": 4,
   "metadata": {},
   "outputs": [
    {
     "name": "stdout",
     "output_type": "stream",
     "text": [
      "dict_keys(['loss', 'acc', 'val_loss', 'val_acc'])\n"
     ]
    }
   ],
   "source": [
    "print(history.history.keys())"
   ]
  },
  {
   "cell_type": "code",
   "execution_count": 5,
   "metadata": {},
   "outputs": [
    {
     "data": {
      "image/png": "[encoded data removed]",
      "text/plain": [
       "<Figure size 432x288 with 1 Axes>"
      ]
     },
     "metadata": {
      "needs_background": "light"
     },
     "output_type": "display_data"
    }
   ],
   "source": [
    "plt.plot(history.history['acc'])\n",
    "plt.plot(history.history['val_acc'])\n",
    "plt.title('model accuracy')\n",
    "plt.ylabel('accuracy')\n",
    "plt.xlabel('epoch')\n",
    "plt.legend(['train', 'test'], loc='upper left')\n",
    "plt.grid()\n",
    "plt.savefig(\"accuracy.jpg\")\n",
    "\n",
    "plt.show()"
   ]
  },
  {
   "cell_type": "code",
   "execution_count": 6,
   "metadata": {},
   "outputs": [
    {
     "data": {
      "image/png": "[encoded data removed]",
      "text/plain": [
       "<Figure size 432x288 with 1 Axes>"
      ]
     },
     "metadata": {
      "needs_background": "light"
     },
     "output_type": "display_data"
    }
   ],
   "source": [
    "plt.plot(history.history['loss'])\n",
    "plt.plot(history.history['val_loss'])\n",
    "plt.title('model loss')\n",
    "plt.ylabel('loss')\n",
    "plt.xlabel('epoch')\n",
    "plt.legend(['train', 'test'], loc='upper left')\n",
    "plt.grid()\n",
    "plt.savefig(\"loss.jpg\")\n",
    "plt.show()"
   ]
  },
  {
   "cell_type": "code",
   "execution_count": 7,
   "metadata": {},
   "outputs": [],
   "source": [
    "pr =model.predict(x_test)"
   ]
  },
  {
   "cell_type": "code",
   "execution_count": 8,
   "metadata": {},
   "outputs": [
    {
     "name": "stdout",
     "output_type": "stream",
     "text": [
      "14400/14400 [==============================] - 1s 63us/sample - loss: 0.0470 - acc: 0.9862\n"
     ]
    },
    {
     "data": {
      "text/plain": [
       "[0.04702091190465243, 0.98618054]"
      ]
     },
     "execution_count": 8,
     "metadata": {},
     "output_type": "execute_result"
    }
   ],
   "source": [
    "model.evaluate(x_test, y_test)\n"
   ]
  },
  {
   "cell_type": "code",
   "execution_count": 13,
   "metadata": {},
   "outputs": [
    {
     "data": {
      "text/plain": [
       "(14400,)"
      ]
     },
     "execution_count": 13,
     "metadata": {},
     "output_type": "execute_result"
    }
   ],
   "source": [
    "pred = []\n",
    "for i in pr:\n",
    "    x=np.argmax(i)\n",
    "    pred.append(x)\n",
    "pred = np.array(pred)\n",
    "\n",
    "truth = []\n",
    "for i in y_test:\n",
    "    x=np.argmax(i)\n",
    "    truth.append(x)\n",
    "truth = np.array(truth)\n",
    "# truth.shape"
   ]
  },
  {
   "cell_type": "code",
   "execution_count": 14,
   "metadata": {},
   "outputs": [],
   "source": [
    "f1 = f1_score(truth, pred, average=\"macro\")\n"
   ]
  },
  {
   "cell_type": "code",
   "execution_count": 15,
   "metadata": {},
   "outputs": [
    {
     "data": {
      "text/plain": [
       "0.9861372946656655"
      ]
     },
     "execution_count": 15,
     "metadata": {},
     "output_type": "execute_result"
    }
   ],
   "source": [
    "f1"
   ]
  },
  {
   "cell_type": "code",
   "execution_count": 17,
   "metadata": {},
   "outputs": [
    {
     "data": {
      "image/png": "[encoded data removed]",
      "text/plain": [
       "<Figure size 288x288 with 2 Axes>"
      ]
     },
     "metadata": {
      "needs_background": "light"
     },
     "output_type": "display_data"
    }
   ],
   "source": [
    "cm = np.array(confusion_matrix(truth,pred),dtype = np.float32)\n",
    "\n",
    "np.save(\"confusion_matrix.npy\",cm)\n",
    "plt.matshow(cm)\n",
    "plt.colorbar()\n",
    "plt.savefig(\"confusion.jpg\")"
   ]
  },
  {
   "cell_type": "code",
   "execution_count": 18,
   "metadata": {},
   "outputs": [],
   "source": [
    "model.save_weights(\"line_1.h5\")"
   ]
  },
  {
   "cell_type": "code",
   "execution_count": null,
   "metadata": {},
   "outputs": [],
   "source": []
  }
 ],
 "metadata": {
  "kernelspec": {
   "display_name": "Python 3",
   "language": "python",
   "name": "python3"
  },
  "language_info": {
   "codemirror_mode": {
    "name": "ipython",
    "version": 3
   },
   "file_extension": ".py",
   "mimetype": "text/x-python",
   "name": "python",
   "nbconvert_exporter": "python",
   "pygments_lexer": "ipython3",
   "version": "3.7.1"
  }
 },
 "nbformat": 4,
 "nbformat_minor": 2
}
