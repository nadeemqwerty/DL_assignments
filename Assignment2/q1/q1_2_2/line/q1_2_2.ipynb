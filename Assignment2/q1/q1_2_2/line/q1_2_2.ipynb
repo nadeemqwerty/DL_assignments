{
 "cells": [
  {
   "cell_type": "code",
   "execution_count": 1,
   "metadata": {},
   "outputs": [
    {
     "name": "stderr",
     "output_type": "stream",
     "text": [
      "Using TensorFlow backend.\n"
     ]
    },
    {
     "name": "stdout",
     "output_type": "stream",
     "text": [
      "(33600, 28, 28, 3)\n",
      "(33600, 96)\n",
      "(14400, 28, 28, 3)\n",
      "(14400, 96)\n"
     ]
    }
   ],
   "source": [
    "from __future__ import print_function\n",
    "from keras import backend as K\n",
    "import tensorflow as tf\n",
    "mnist = tf.keras.datasets.mnist\n",
    "import numpy as np\n",
    "from sklearn.metrics import accuracy_score, f1_score, precision_score, recall_score, classification_report, confusion_matrix\n",
    "import matplotlib.pyplot as plt\n",
    "from tensorflow.keras.layers import Conv2D, Dense, MaxPool2D, Flatten, BatchNormalization, Input, Dropout, concatenate\n",
    "\n",
    "from tensorflow.keras.preprocessing.image import *\n",
    "\n",
    "epochs = 15\n",
    "batch_size = 64\n",
    "\n",
    "x_train = np.load(\"here/train.npy\")\n",
    "y_train = np.load(\"here/Y_train.npy\")\n",
    "x_test = np.load(\"here/test.npy\")\n",
    "y_test = np.load(\"here/Y_test.npy\")\n",
    "\n",
    "print(x_train.shape)\n",
    "print(y_train.shape)\n",
    "print(x_test.shape)\n",
    "print(y_test.shape)"
   ]
  },
  {
   "cell_type": "code",
   "execution_count": 2,
   "metadata": {},
   "outputs": [],
   "source": [
    "def inception_block(x, filters):\n",
    "#     last = x\n",
    "\n",
    "    net1 = Conv2D(filters = filters, kernel_size=(1,1), padding='Same', activation = 'relu')(x)\n",
    "\n",
    "    net2 = Conv2D(filters = filters, kernel_size=(1,1), padding='Same', activation = 'relu')(x)\n",
    "    net2 = Conv2D(filters = filters, kernel_size=(3,3), padding='Same', activation = 'relu')(net2)\n",
    "\n",
    "    net3 = Conv2D(filters = filters, kernel_size=(1,1), padding='Same', activation = 'relu')(x)\n",
    "    net3 = Conv2D(filters = filters, kernel_size=(3,3), padding='Same', activation = 'relu')(net3)\n",
    "    net3 = Conv2D(filters = filters, kernel_size=(3,3), padding='Same', activation = 'relu')(net3)\n",
    "\n",
    "    output = concatenate([net1, net2, net3], axis=3)\n",
    "    return output"
   ]
  },
  {
   "cell_type": "code",
   "execution_count": 11,
   "metadata": {},
   "outputs": [
    {
     "name": "stdout",
     "output_type": "stream",
     "text": [
      "__________________________________________________________________________________________________\n",
      "Layer (type)                    Output Shape         Param #     Connected to                     \n",
      "==================================================================================================\n",
      "input_4 (InputLayer)            (None, 28, 28, 3)    0                                            \n",
      "__________________________________________________________________________________________________\n",
      "conv2d_42 (Conv2D)              (None, 28, 28, 32)   2432        input_4[0][0]                    \n",
      "__________________________________________________________________________________________________\n",
      "conv2d_43 (Conv2D)              (None, 28, 28, 32)   25632       conv2d_42[0][0]                  \n",
      "__________________________________________________________________________________________________\n",
      "batch_normalization_v1_3 (Batch (None, 28, 28, 32)   128         conv2d_43[0][0]                  \n",
      "__________________________________________________________________________________________________\n",
      "max_pooling2d_9 (MaxPooling2D)  (None, 12, 12, 32)   0           batch_normalization_v1_3[0][0]   \n",
      "__________________________________________________________________________________________________\n",
      "conv2d_47 (Conv2D)              (None, 12, 12, 32)   1056        max_pooling2d_9[0][0]            \n",
      "__________________________________________________________________________________________________\n",
      "conv2d_45 (Conv2D)              (None, 12, 12, 32)   1056        max_pooling2d_9[0][0]            \n",
      "__________________________________________________________________________________________________\n",
      "conv2d_48 (Conv2D)              (None, 12, 12, 32)   9248        conv2d_47[0][0]                  \n",
      "__________________________________________________________________________________________________\n",
      "conv2d_44 (Conv2D)              (None, 12, 12, 32)   1056        max_pooling2d_9[0][0]            \n",
      "__________________________________________________________________________________________________\n",
      "conv2d_46 (Conv2D)              (None, 12, 12, 32)   9248        conv2d_45[0][0]                  \n",
      "__________________________________________________________________________________________________\n",
      "conv2d_49 (Conv2D)              (None, 12, 12, 32)   9248        conv2d_48[0][0]                  \n",
      "__________________________________________________________________________________________________\n",
      "concatenate_6 (Concatenate)     (None, 12, 12, 96)   0           conv2d_44[0][0]                  \n",
      "                                                                 conv2d_46[0][0]                  \n",
      "                                                                 conv2d_49[0][0]                  \n",
      "__________________________________________________________________________________________________\n",
      "max_pooling2d_10 (MaxPooling2D) (None, 6, 6, 96)     0           concatenate_6[0][0]              \n",
      "__________________________________________________________________________________________________\n",
      "conv2d_53 (Conv2D)              (None, 6, 6, 64)     6208        max_pooling2d_10[0][0]           \n",
      "__________________________________________________________________________________________________\n",
      "conv2d_51 (Conv2D)              (None, 6, 6, 64)     6208        max_pooling2d_10[0][0]           \n",
      "__________________________________________________________________________________________________\n",
      "conv2d_54 (Conv2D)              (None, 6, 6, 64)     36928       conv2d_53[0][0]                  \n",
      "__________________________________________________________________________________________________\n",
      "conv2d_50 (Conv2D)              (None, 6, 6, 64)     6208        max_pooling2d_10[0][0]           \n",
      "__________________________________________________________________________________________________\n",
      "conv2d_52 (Conv2D)              (None, 6, 6, 64)     36928       conv2d_51[0][0]                  \n",
      "__________________________________________________________________________________________________\n",
      "conv2d_55 (Conv2D)              (None, 6, 6, 64)     36928       conv2d_54[0][0]                  \n",
      "__________________________________________________________________________________________________\n",
      "concatenate_7 (Concatenate)     (None, 6, 6, 192)    0           conv2d_50[0][0]                  \n",
      "                                                                 conv2d_52[0][0]                  \n",
      "                                                                 conv2d_55[0][0]                  \n",
      "__________________________________________________________________________________________________\n",
      "max_pooling2d_11 (MaxPooling2D) (None, 6, 6, 192)    0           concatenate_7[0][0]              \n",
      "__________________________________________________________________________________________________\n",
      "flatten_3 (Flatten)             (None, 6912)         0           max_pooling2d_11[0][0]           \n",
      "__________________________________________________________________________________________________\n",
      "dense_8 (Dense)                 (None, 1024)         7078912     flatten_3[0][0]                  \n",
      "__________________________________________________________________________________________________\n",
      "dropout_5 (Dropout)             (None, 1024)         0           dense_8[0][0]                    \n",
      "__________________________________________________________________________________________________\n",
      "dense_9 (Dense)                 (None, 96)           98400       dropout_5[0][0]                  \n",
      "==================================================================================================\n",
      "Total params: 7,365,824\n",
      "Trainable params: 7,365,760\n",
      "Non-trainable params: 64\n",
      "__________________________________________________________________________________________________\n"
     ]
    }
   ],
   "source": [
    "input_shape = (28,28,3)\n",
    "\n",
    "input_layer = Input(shape=input_shape)\n",
    "x = Conv2D(filters = 32, kernel_size=(5,5), padding='Same', activation = 'relu')(input_layer)\n",
    "x = Conv2D(filters = 32, kernel_size=(5,5), padding='Same', activation = 'relu')(x)\n",
    "x = BatchNormalization()(x)\n",
    "x = MaxPool2D(pool_size=(5, 5), strides=(2,2))(x)\n",
    "\n",
    "# last = x\n",
    "\n",
    "x = inception_block(x,32)\n",
    "x = MaxPool2D(pool_size=(5, 5), strides=(2,2),padding='Same')(x)\n",
    "\n",
    "# x = MaxPool2D(pool_size=(3, 3), strides=(2,2))(x)\n",
    "# x = inception_block(x,64)\n",
    "# x = MaxPool2D(pool_size=(3, 3), strides=(1,1),padding='Same')(x)\n",
    "\n",
    "x = inception_block(x,64)\n",
    "x = MaxPool2D(pool_size=(3, 3), strides=(1,1),padding='Same')(x)\n",
    "\n",
    "# x = concatenate([x, last], axis=3)\n",
    "# x = Conv2D(filters = 128, kernel_size=(3,3), padding='Same', activation = 'relu')(x)\n",
    "# x = Conv2D(filters = 128, kernel_size=(3,3), padding='Same', activation = 'relu')(x)\n",
    "# x = MaxPool2D(pool_size=(3, 3), strides=(1,1))(x)\n",
    "\n",
    "# x = Conv2D(filters = 128, kernel_size=(3,3), padding='Same', activation = 'relu')(x)\n",
    "# x = Conv2D(filters = 128, kernel_size=(3,3), padding='Same', activation = 'relu')(x)\n",
    "# x = MaxPool2D(pool_size=(3, 3), strides=(2,2),padding='Same')(x)\n",
    "\n",
    "# x = Conv2D(filters = 256, kernel_size=(3,3), padding='Same', activation = 'relu')(x)\n",
    "# x = Conv2D(filters = 256, kernel_size=(3,3), padding='Same', activation = 'relu')(x)\n",
    "# x = MaxPool2D(pool_size=(3, 3), strides=(1,1),padding='Same')(x)\n",
    "\n",
    "x = Flatten()(x)\n",
    "\n",
    "# x = Dense(2048, activation=tf.nn.relu)(x)\n",
    "# x = Dropout(0.5)(x)\n",
    "\n",
    "x = Dense(1024, activation=tf.nn.relu)(x)\n",
    "x = Dropout(0.5)(x)\n",
    "\n",
    "# x = Dense(128, activation=tf.nn.relu)(x)\n",
    "# x = Dropout(0.5)(x)\n",
    "\n",
    "x = Dense(96, activation=tf.nn.softmax)(x)\n",
    "\n",
    "from tensorflow.keras.models import Model\n",
    "\n",
    "\n",
    "model = Model(input_layer, x)\n",
    "model.compile(optimizer='adam',\n",
    "              loss='categorical_crossentropy',\n",
    "              metrics=['accuracy'])\n",
    "model.summary()\n"
   ]
  },
  {
   "cell_type": "code",
   "execution_count": 13,
   "metadata": {},
   "outputs": [
    {
     "name": "stdout",
     "output_type": "stream",
     "text": [
      "Epoch 1/15\n",
      "14400/14400 [==============================] - 2s 122us/sample - loss: 0.0019 - acc: 0.9994\n",
      "525/525 [==============================] - 17s 32ms/step - loss: 0.0800 - acc: 0.9787 - val_loss: 0.0019 - val_acc: 0.9994\n",
      "Epoch 2/15\n",
      "14400/14400 [==============================] - 2s 123us/sample - loss: 0.0210 - acc: 0.9937\n",
      "525/525 [==============================] - 17s 32ms/step - loss: 0.0963 - acc: 0.9743 - val_loss: 0.0210 - val_acc: 0.9937\n",
      "Epoch 3/15\n",
      "14400/14400 [==============================] - 2s 115us/sample - loss: 0.0036 - acc: 0.9986\n",
      "525/525 [==============================] - 17s 33ms/step - loss: 0.0656 - acc: 0.9802 - val_loss: 0.0036 - val_acc: 0.9986\n",
      "Epoch 4/15\n",
      "14400/14400 [==============================] - 2s 119us/sample - loss: 0.0068 - acc: 0.9977\n",
      "525/525 [==============================] - 17s 33ms/step - loss: 0.0942 - acc: 0.9752 - val_loss: 0.0068 - val_acc: 0.9977\n",
      "Epoch 5/15\n",
      "14400/14400 [==============================] - 2s 118us/sample - loss: 0.0233 - acc: 0.9920\n",
      "525/525 [==============================] - 17s 33ms/step - loss: 0.0510 - acc: 0.9854 - val_loss: 0.0233 - val_acc: 0.9920\n",
      "Epoch 6/15\n",
      "14400/14400 [==============================] - 2s 119us/sample - loss: 0.0173 - acc: 0.9958\n",
      "525/525 [==============================] - 17s 33ms/step - loss: 0.0877 - acc: 0.9772 - val_loss: 0.0173 - val_acc: 0.9958\n",
      "Epoch 7/15\n",
      "14400/14400 [==============================] - 2s 121us/sample - loss: 0.0202 - acc: 0.9962\n",
      "525/525 [==============================] - 17s 33ms/step - loss: 0.0888 - acc: 0.9778 - val_loss: 0.0202 - val_acc: 0.9962\n",
      "Epoch 8/15\n",
      "14400/14400 [==============================] - 2s 116us/sample - loss: 0.0253 - acc: 0.9920\n",
      "525/525 [==============================] - 17s 33ms/step - loss: 0.0824 - acc: 0.9792 - val_loss: 0.0253 - val_acc: 0.9920\n",
      "Epoch 9/15\n",
      "14400/14400 [==============================] - 2s 118us/sample - loss: 0.0340 - acc: 0.9950\n",
      "525/525 [==============================] - 17s 33ms/step - loss: 0.0648 - acc: 0.9811 - val_loss: 0.0340 - val_acc: 0.9950\n",
      "Epoch 10/15\n",
      "14400/14400 [==============================] - 2s 118us/sample - loss: 0.0052 - acc: 0.9978\n",
      "525/525 [==============================] - 17s 33ms/step - loss: 0.0673 - acc: 0.9829 - val_loss: 0.0052 - val_acc: 0.9978\n",
      "Epoch 11/15\n",
      "14400/14400 [==============================] - 2s 118us/sample - loss: 0.0153 - acc: 0.9972\n",
      "525/525 [==============================] - 17s 33ms/step - loss: 0.0949 - acc: 0.9791 - val_loss: 0.0153 - val_acc: 0.9972\n",
      "Epoch 12/15\n",
      "14400/14400 [==============================] - 2s 122us/sample - loss: 0.0023 - acc: 0.9990\n",
      "525/525 [==============================] - 17s 33ms/step - loss: 0.0667 - acc: 0.9822 - val_loss: 0.0023 - val_acc: 0.9990\n",
      "Epoch 13/15\n",
      "14400/14400 [==============================] - 2s 117us/sample - loss: 0.0111 - acc: 0.9966\n",
      "525/525 [==============================] - 17s 33ms/step - loss: 0.0687 - acc: 0.9825 - val_loss: 0.0111 - val_acc: 0.9966\n",
      "Epoch 14/15\n",
      "14400/14400 [==============================] - 2s 119us/sample - loss: 0.0014 - acc: 0.9995\n",
      "525/525 [==============================] - 17s 33ms/step - loss: 0.0690 - acc: 0.9824 - val_loss: 0.0014 - val_acc: 0.9995\n",
      "Epoch 15/15\n",
      "14400/14400 [==============================] - 2s 119us/sample - loss: 0.0101 - acc: 0.9978\n",
      "525/525 [==============================] - 17s 33ms/step - loss: 0.0761 - acc: 0.9812 - val_loss: 0.0101 - val_acc: 0.9978\n"
     ]
    }
   ],
   "source": [
    "datagen = ImageDataGenerator(\n",
    "    rotation_range=2,\n",
    "    width_shift_range=0.1,\n",
    "    shear_range = 0.1,\n",
    "    zoom_range = 0.1,\n",
    "    height_shift_range=0.1)\n",
    "\n",
    "\n",
    "datagen.fit(x_train)\n",
    "epochs = 15\n",
    "history = model.fit_generator(datagen.flow(x_train, y_train, batch_size=batch_size),steps_per_epoch=len(x_train)/batch_size, epochs=epochs, validation_data=(x_test,y_test))\n",
    "model.save_weights(\"line_2.h5\")\n",
    "\n",
    "# print(history.history.keys())"
   ]
  },
  {
   "cell_type": "code",
   "execution_count": 14,
   "metadata": {},
   "outputs": [
    {
     "data": {
      "image/png": "[encoded data removed]",
      "text/plain": [
       "<Figure size 432x288 with 1 Axes>"
      ]
     },
     "metadata": {
      "needs_background": "light"
     },
     "output_type": "display_data"
    }
   ],
   "source": [
    "plt.plot(history.history['acc'])\n",
    "plt.plot(history.history['val_acc'])\n",
    "plt.title('model accuracy')\n",
    "plt.ylabel('accuracy')\n",
    "plt.xlabel('epoch')\n",
    "plt.legend(['train', 'test'], loc='upper left')\n",
    "plt.grid()\n",
    "plt.savefig(\"accuracy.jpg\")\n",
    "\n",
    "plt.show()"
   ]
  },
  {
   "cell_type": "code",
   "execution_count": 15,
   "metadata": {},
   "outputs": [
    {
     "data": {
      "image/png": "[encoded data removed]",
      "text/plain": [
       "<Figure size 432x288 with 1 Axes>"
      ]
     },
     "metadata": {
      "needs_background": "light"
     },
     "output_type": "display_data"
    }
   ],
   "source": [
    "plt.plot(history.history['loss'])\n",
    "plt.plot(history.history['val_loss'])\n",
    "plt.title('model loss')\n",
    "plt.ylabel('loss')\n",
    "plt.xlabel('epoch')\n",
    "plt.legend(['train', 'test'], loc='upper left')\n",
    "plt.grid()\n",
    "plt.savefig(\"loss.jpg\")\n",
    "plt.show()"
   ]
  },
  {
   "cell_type": "code",
   "execution_count": 16,
   "metadata": {},
   "outputs": [
    {
     "name": "stdout",
     "output_type": "stream",
     "text": [
      "14400/14400 [==============================] - 2s 125us/sample - loss: 0.0101 - acc: 0.9978\n"
     ]
    },
    {
     "data": {
      "text/plain": [
       "[0.010081323641313481, 0.9978472]"
      ]
     },
     "execution_count": 16,
     "metadata": {},
     "output_type": "execute_result"
    }
   ],
   "source": [
    "pr =model.predict(x_test)\n",
    "model.evaluate(x_test, y_test)"
   ]
  },
  {
   "cell_type": "code",
   "execution_count": 17,
   "metadata": {},
   "outputs": [],
   "source": [
    "pred = []\n",
    "for i in pr:\n",
    "    x=np.argmax(i)\n",
    "    pred.append(x)\n",
    "pred = np.array(pred)\n",
    "\n",
    "truth = []\n",
    "for i in y_test:\n",
    "    x=np.argmax(i)\n",
    "    truth.append(x)\n",
    "truth = np.array(truth)"
   ]
  },
  {
   "cell_type": "code",
   "execution_count": 18,
   "metadata": {},
   "outputs": [
    {
     "data": {
      "text/plain": [
       "0.9978473903136251"
      ]
     },
     "execution_count": 18,
     "metadata": {},
     "output_type": "execute_result"
    }
   ],
   "source": [
    "f1 = f1_score(truth, pred, average=\"macro\")\n",
    "f1"
   ]
  },
  {
   "cell_type": "code",
   "execution_count": 19,
   "metadata": {},
   "outputs": [
    {
     "data": {
      "image/png": "[encoded data removed]",
      "text/plain": [
       "<Figure size 288x288 with 2 Axes>"
      ]
     },
     "metadata": {
      "needs_background": "light"
     },
     "output_type": "display_data"
    }
   ],
   "source": [
    "cm = np.array(confusion_matrix(truth,pred),dtype = np.float32)\n",
    "\n",
    "np.save(\"confusion_matrix.npy\",cm)\n",
    "plt.matshow(cm)\n",
    "plt.colorbar()\n",
    "plt.savefig(\"confusion.jpg\")"
   ]
  },
  {
   "cell_type": "code",
   "execution_count": null,
   "metadata": {},
   "outputs": [],
   "source": []
  }
 ],
 "metadata": {
  "kernelspec": {
   "display_name": "Python 3",
   "language": "python",
   "name": "python3"
  },
  "language_info": {
   "codemirror_mode": {
    "name": "ipython",
    "version": 3
   },
   "file_extension": ".py",
   "mimetype": "text/x-python",
   "name": "python",
   "nbconvert_exporter": "python",
   "pygments_lexer": "ipython3",
   "version": "3.7.1"
  }
 },
 "nbformat": 4,
 "nbformat_minor": 2
}
