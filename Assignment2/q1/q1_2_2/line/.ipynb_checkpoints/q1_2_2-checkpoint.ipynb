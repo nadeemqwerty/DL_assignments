{
 "cells": [
  {
   "cell_type": "code",
   "execution_count": 1,
   "metadata": {},
   "outputs": [
    {
     "name": "stderr",
     "output_type": "stream",
     "text": [
      "Using TensorFlow backend.\n"
     ]
    },
    {
     "name": "stdout",
     "output_type": "stream",
     "text": [
      "(33600, 28, 28, 3)\n",
      "(33600, 96)\n",
      "(14400, 28, 28, 3)\n",
      "(14400, 96)\n"
     ]
    }
   ],
   "source": [
    "from __future__ import print_function\n",
    "from keras import backend as K\n",
    "import tensorflow as tf\n",
    "mnist = tf.keras.datasets.mnist\n",
    "import numpy as np\n",
    "from sklearn.metrics import accuracy_score, f1_score, precision_score, recall_score, classification_report, confusion_matrix\n",
    "import matplotlib.pyplot as plt\n",
    "from tensorflow.keras.layers import Conv2D, Dense, MaxPool2D, Flatten, BatchNormalization, Input, Dropout, concatenate\n",
    "\n",
    "from tensorflow.keras.preprocessing.image import *\n",
    "\n",
    "epochs = 32\n",
    "batch_size = 64\n",
    "\n",
    "x_train = np.load(\"here/train.npy\")\n",
    "y_train = np.load(\"here/Y_train.npy\")\n",
    "x_test = np.load(\"here/test.npy\")\n",
    "y_test = np.load(\"here/Y_test.npy\")\n",
    "\n",
    "print(x_train.shape)\n",
    "print(y_train.shape)\n",
    "print(x_test.shape)\n",
    "print(y_test.shape)"
   ]
  },
  {
   "cell_type": "code",
   "execution_count": 2,
   "metadata": {},
   "outputs": [],
   "source": [
    "def inception_block(x, filters):\n",
    "#     last = x\n",
    "\n",
    "    net1 = Conv2D(filters = filters, kernel_size=(1,1), padding='Same', activation = 'relu')(x)\n",
    "\n",
    "    net2 = Conv2D(filters = filters, kernel_size=(1,1), padding='Same', activation = 'relu')(x)\n",
    "    net2 = Conv2D(filters = filters, kernel_size=(3,3), padding='Same', activation = 'relu')(net2)\n",
    "\n",
    "    net3 = Conv2D(filters = filters, kernel_size=(1,1), padding='Same', activation = 'relu')(x)\n",
    "    net3 = Conv2D(filters = filters, kernel_size=(3,3), padding='Same', activation = 'relu')(net3)\n",
    "    net3 = Conv2D(filters = filters, kernel_size=(3,3), padding='Same', activation = 'relu')(net3)\n",
    "\n",
    "    output = concatenate([net1, net2, net3], axis=3)\n",
    "    return output"
   ]
  },
  {
   "cell_type": "code",
   "execution_count": 3,
   "metadata": {},
   "outputs": [
    {
     "name": "stdout",
     "output_type": "stream",
     "text": [
      "WARNING:tensorflow:From /home/nadeemqwerty/.local/lib/python3.7/site-packages/tensorflow/python/ops/resource_variable_ops.py:435: colocate_with (from tensorflow.python.framework.ops) is deprecated and will be removed in a future version.\n",
      "Instructions for updating:\n",
      "Colocations handled automatically by placer.\n",
      "WARNING:tensorflow:From /home/nadeemqwerty/.local/lib/python3.7/site-packages/tensorflow/python/keras/layers/core.py:143: calling dropout (from tensorflow.python.ops.nn_ops) with keep_prob is deprecated and will be removed in a future version.\n",
      "Instructions for updating:\n",
      "Please use `rate` instead of `keep_prob`. Rate should be set to `rate = 1 - keep_prob`.\n"
     ]
    },
    {
     "ename": "NameError",
     "evalue": "name 'Model' is not defined",
     "output_type": "error",
     "traceback": [
      "\u001b[0;31m---------------------------------------------------------------------------\u001b[0m",
      "\u001b[0;31mNameError\u001b[0m                                 Traceback (most recent call last)",
      "\u001b[0;32m<ipython-input-3-e3c815026907>\u001b[0m in \u001b[0;36m<module>\u001b[0;34m\u001b[0m\n\u001b[1;32m     45\u001b[0m \u001b[0mx\u001b[0m \u001b[0;34m=\u001b[0m \u001b[0mDense\u001b[0m\u001b[0;34m(\u001b[0m\u001b[0;36m10\u001b[0m\u001b[0;34m,\u001b[0m \u001b[0mactivation\u001b[0m\u001b[0;34m=\u001b[0m\u001b[0mtf\u001b[0m\u001b[0;34m.\u001b[0m\u001b[0mnn\u001b[0m\u001b[0;34m.\u001b[0m\u001b[0msoftmax\u001b[0m\u001b[0;34m)\u001b[0m\u001b[0;34m(\u001b[0m\u001b[0mx\u001b[0m\u001b[0;34m)\u001b[0m\u001b[0;34m\u001b[0m\u001b[0;34m\u001b[0m\u001b[0m\n\u001b[1;32m     46\u001b[0m \u001b[0;34m\u001b[0m\u001b[0m\n\u001b[0;32m---> 47\u001b[0;31m \u001b[0mmodel\u001b[0m \u001b[0;34m=\u001b[0m \u001b[0mModel\u001b[0m\u001b[0;34m(\u001b[0m\u001b[0minput_layer\u001b[0m\u001b[0;34m,\u001b[0m \u001b[0mx\u001b[0m\u001b[0;34m)\u001b[0m\u001b[0;34m\u001b[0m\u001b[0;34m\u001b[0m\u001b[0m\n\u001b[0m\u001b[1;32m     48\u001b[0m \u001b[0mmodel\u001b[0m\u001b[0;34m.\u001b[0m\u001b[0msummary\u001b[0m\u001b[0;34m(\u001b[0m\u001b[0;34m)\u001b[0m\u001b[0;34m\u001b[0m\u001b[0;34m\u001b[0m\u001b[0m\n",
      "\u001b[0;31mNameError\u001b[0m: name 'Model' is not defined"
     ]
    }
   ],
   "source": [
    "input_shape = (28,28,3)\n",
    "\n",
    "input_layer = Input(shape=input_shape)\n",
    "x = Conv2D(filters = 32, kernel_size=(5,5), padding='Same', activation = 'relu')(input_layer)\n",
    "x = Conv2D(filters = 32, kernel_size=(5,5), padding='Same', activation = 'relu')(x)\n",
    "x = BatchNormalization()(x)\n",
    "x = MaxPool2D(pool_size=(5, 5), strides=(2,2))(x)\n",
    "\n",
    "# last = x\n",
    "\n",
    "x = inception_block(x,32)\n",
    "x = MaxPool2D(pool_size=(5, 5), strides=(2,2),padding='Same')(x)\n",
    "\n",
    "# x = MaxPool2D(pool_size=(3, 3), strides=(2,2))(x)\n",
    "# x = inception_block(x,64)\n",
    "# x = MaxPool2D(pool_size=(3, 3), strides=(1,1),padding='Same')(x)\n",
    "\n",
    "x = inception_block(x,64)\n",
    "x = MaxPool2D(pool_size=(3, 3), strides=(1,1),padding='Same')(x)\n",
    "\n",
    "# x = concatenate([x, last], axis=3)\n",
    "# x = Conv2D(filters = 128, kernel_size=(3,3), padding='Same', activation = 'relu')(x)\n",
    "# x = Conv2D(filters = 128, kernel_size=(3,3), padding='Same', activation = 'relu')(x)\n",
    "# x = MaxPool2D(pool_size=(3, 3), strides=(1,1))(x)\n",
    "\n",
    "# x = Conv2D(filters = 128, kernel_size=(3,3), padding='Same', activation = 'relu')(x)\n",
    "# x = Conv2D(filters = 128, kernel_size=(3,3), padding='Same', activation = 'relu')(x)\n",
    "# x = MaxPool2D(pool_size=(3, 3), strides=(2,2),padding='Same')(x)\n",
    "\n",
    "# x = Conv2D(filters = 256, kernel_size=(3,3), padding='Same', activation = 'relu')(x)\n",
    "# x = Conv2D(filters = 256, kernel_size=(3,3), padding='Same', activation = 'relu')(x)\n",
    "# x = MaxPool2D(pool_size=(3, 3), strides=(1,1),padding='Same')(x)\n",
    "\n",
    "x = Flatten()(x)\n",
    "\n",
    "# x = Dense(2048, activation=tf.nn.relu)(x)\n",
    "# x = Dropout(0.5)(x)\n",
    "\n",
    "x = Dense(1024, activation=tf.nn.relu)(x)\n",
    "x = Dropout(0.5)(x)\n",
    "\n",
    "x = Dense(128, activation=tf.nn.relu)(x)\n",
    "x = Dropout(0.5)(x)\n",
    "\n",
    "x = Dense(10, activation=tf.nn.softmax)(x)\n",
    "\n",
    "from tensorflow.keras.models import Model\n",
    "\n",
    "\n",
    "model = Model(input_layer, x)\n",
    "model.summary()\n"
   ]
  },
  {
   "cell_type": "code",
   "execution_count": null,
   "metadata": {},
   "outputs": [],
   "source": [
    "datagen = ImageDataGenerator(\n",
    "    rotation_range=2,\n",
    "    width_shift_range=0.1,\n",
    "    shear_range = 0.1,\n",
    "    zoom_range = 0.1,\n",
    "    height_shift_range=0.1)\n",
    "\n",
    "\n",
    "datagen.fit(x_train)\n",
    "\n",
    "history = model.fit_generator(datagen.flow(x_train, y_train, batch_size=batch_size),\n",
    "                    steps_per_epoch=len(x_train) / batch_size, epochs=epochs, validation_data=(x_test,y_test))model.save_weights(\"line_1.h5\")\n",
    "\n",
    "print(history.history.keys())"
   ]
  }
 ],
 "metadata": {
  "kernelspec": {
   "display_name": "Python 3",
   "language": "python",
   "name": "python3"
  },
  "language_info": {
   "codemirror_mode": {
    "name": "ipython",
    "version": 3
   },
   "file_extension": ".py",
   "mimetype": "text/x-python",
   "name": "python",
   "nbconvert_exporter": "python",
   "pygments_lexer": "ipython3",
   "version": "3.7.1"
  }
 },
 "nbformat": 4,
 "nbformat_minor": 2
}
