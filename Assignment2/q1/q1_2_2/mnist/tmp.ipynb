{
 "cells": [
  {
   "cell_type": "code",
   "execution_count": 1,
   "metadata": {},
   "outputs": [
    {
     "name": "stdout",
     "output_type": "stream",
     "text": [
      "WARNING:tensorflow:From /home/nadeemqwerty/.local/lib/python3.7/site-packages/tensorflow/python/ops/resource_variable_ops.py:435: colocate_with (from tensorflow.python.framework.ops) is deprecated and will be removed in a future version.\n",
      "Instructions for updating:\n",
      "Colocations handled automatically by placer.\n",
      "WARNING:tensorflow:From /home/nadeemqwerty/.local/lib/python3.7/site-packages/tensorflow/python/keras/layers/core.py:143: calling dropout (from tensorflow.python.ops.nn_ops) with keep_prob is deprecated and will be removed in a future version.\n",
      "Instructions for updating:\n",
      "Please use `rate` instead of `keep_prob`. Rate should be set to `rate = 1 - keep_prob`.\n",
      "__________________________________________________________________________________________________\n",
      "Layer (type)                    Output Shape         Param #     Connected to                     \n",
      "==================================================================================================\n",
      "input_1 (InputLayer)            (None, 28, 28, 1)    0                                            \n",
      "__________________________________________________________________________________________________\n",
      "conv2d (Conv2D)                 (None, 28, 28, 32)   832         input_1[0][0]                    \n",
      "__________________________________________________________________________________________________\n",
      "conv2d_1 (Conv2D)               (None, 28, 28, 32)   25632       conv2d[0][0]                     \n",
      "__________________________________________________________________________________________________\n",
      "batch_normalization_v1 (BatchNo (None, 28, 28, 32)   128         conv2d_1[0][0]                   \n",
      "__________________________________________________________________________________________________\n",
      "max_pooling2d (MaxPooling2D)    (None, 12, 12, 32)   0           batch_normalization_v1[0][0]     \n",
      "__________________________________________________________________________________________________\n",
      "conv2d_5 (Conv2D)               (None, 12, 12, 32)   1056        max_pooling2d[0][0]              \n",
      "__________________________________________________________________________________________________\n",
      "conv2d_3 (Conv2D)               (None, 12, 12, 32)   1056        max_pooling2d[0][0]              \n",
      "__________________________________________________________________________________________________\n",
      "conv2d_6 (Conv2D)               (None, 12, 12, 32)   9248        conv2d_5[0][0]                   \n",
      "__________________________________________________________________________________________________\n",
      "conv2d_2 (Conv2D)               (None, 12, 12, 32)   1056        max_pooling2d[0][0]              \n",
      "__________________________________________________________________________________________________\n",
      "conv2d_4 (Conv2D)               (None, 12, 12, 32)   9248        conv2d_3[0][0]                   \n",
      "__________________________________________________________________________________________________\n",
      "conv2d_7 (Conv2D)               (None, 12, 12, 32)   9248        conv2d_6[0][0]                   \n",
      "__________________________________________________________________________________________________\n",
      "concatenate (Concatenate)       (None, 12, 12, 96)   0           conv2d_2[0][0]                   \n",
      "                                                                 conv2d_4[0][0]                   \n",
      "                                                                 conv2d_7[0][0]                   \n",
      "__________________________________________________________________________________________________\n",
      "max_pooling2d_1 (MaxPooling2D)  (None, 6, 6, 96)     0           concatenate[0][0]                \n",
      "__________________________________________________________________________________________________\n",
      "conv2d_11 (Conv2D)              (None, 6, 6, 64)     6208        max_pooling2d_1[0][0]            \n",
      "__________________________________________________________________________________________________\n",
      "conv2d_9 (Conv2D)               (None, 6, 6, 64)     6208        max_pooling2d_1[0][0]            \n",
      "__________________________________________________________________________________________________\n",
      "conv2d_12 (Conv2D)              (None, 6, 6, 64)     36928       conv2d_11[0][0]                  \n",
      "__________________________________________________________________________________________________\n",
      "conv2d_8 (Conv2D)               (None, 6, 6, 64)     6208        max_pooling2d_1[0][0]            \n",
      "__________________________________________________________________________________________________\n",
      "conv2d_10 (Conv2D)              (None, 6, 6, 64)     36928       conv2d_9[0][0]                   \n",
      "__________________________________________________________________________________________________\n",
      "conv2d_13 (Conv2D)              (None, 6, 6, 64)     36928       conv2d_12[0][0]                  \n",
      "__________________________________________________________________________________________________\n",
      "concatenate_1 (Concatenate)     (None, 6, 6, 192)    0           conv2d_8[0][0]                   \n",
      "                                                                 conv2d_10[0][0]                  \n",
      "                                                                 conv2d_13[0][0]                  \n",
      "__________________________________________________________________________________________________\n",
      "max_pooling2d_2 (MaxPooling2D)  (None, 6, 6, 192)    0           concatenate_1[0][0]              \n",
      "__________________________________________________________________________________________________\n",
      "flatten (Flatten)               (None, 6912)         0           max_pooling2d_2[0][0]            \n",
      "__________________________________________________________________________________________________\n",
      "dense (Dense)                   (None, 1024)         7078912     flatten[0][0]                    \n",
      "__________________________________________________________________________________________________\n",
      "dropout (Dropout)               (None, 1024)         0           dense[0][0]                      \n",
      "__________________________________________________________________________________________________\n",
      "dense_1 (Dense)                 (None, 128)          131200      dropout[0][0]                    \n",
      "__________________________________________________________________________________________________\n",
      "dropout_1 (Dropout)             (None, 128)          0           dense_1[0][0]                    \n",
      "__________________________________________________________________________________________________\n",
      "dense_2 (Dense)                 (None, 10)           1290        dropout_1[0][0]                  \n",
      "==================================================================================================\n",
      "Total params: 7,398,314\n",
      "Trainable params: 7,398,250\n",
      "Non-trainable params: 64\n",
      "__________________________________________________________________________________________________\n"
     ]
    }
   ],
   "source": [
    "from __future__ import print_function\n",
    "# from keras import backend as K\n",
    "import tensorflow as tf\n",
    "mnist = tf.keras.datasets.mnist\n",
    "from tensorflow.keras.layers import Conv2D, Dense, MaxPool2D, Flatten, BatchNormalization, Input, Dropout, concatenate\n",
    "from tensorflow.keras.models import Model\n",
    "# from tensorflow.keras.optimizers import adagrad \n",
    "import numpy as np\n",
    "from sklearn.metrics import accuracy_score, f1_score, precision_score, recall_score, classification_report, confusion_matrix\n",
    "import matplotlib.pyplot as plt\n",
    "from tensorflow.keras.preprocessing.image import *\n",
    "\n",
    "epochs = 16\n",
    "batch_size = 64\n",
    "input_shape = (28,28,1)\n",
    "\n",
    "(x_train, y_train),(x_test, y_test) = mnist.load_data()\n",
    "x_train, x_test = x_train / 255.0, x_test / 255.0\n",
    "x_train = x_train.reshape((x_train.shape[0],28,28,1))\n",
    "x_test = x_test.reshape((x_test.shape[0],28,28,1))\n",
    "\n",
    "\n",
    "# model = tf.keras.models.Sequential([\n",
    "#   tf.keras.layers.Conv2D(filters = 32, kernel_size=(7,7), padding='Same', activation = 'relu', input_shape = (28,28,1)),\n",
    "#   tf.keras.layers.BatchNormalization(),\n",
    "#   tf.keras.layers.MaxPool2D(pool_size=(2, 2), strides=(2,2)),\n",
    "#   tf.keras.layers.Flatten(),\n",
    "#   tf.keras.layers.Dense(1024, activation=tf.nn.relu),\n",
    "#   tf.keras.layers.Dense(10, activation=tf.nn.softmax)\n",
    "# ])\n",
    "def inception_block(x, filters):\n",
    "#     last = x\n",
    "    \n",
    "    net1 = Conv2D(filters = filters, kernel_size=(1,1), padding='Same', activation = 'relu')(x)\n",
    "    \n",
    "    net2 = Conv2D(filters = filters, kernel_size=(1,1), padding='Same', activation = 'relu')(x)\n",
    "    net2 = Conv2D(filters = filters, kernel_size=(3,3), padding='Same', activation = 'relu')(net2)\n",
    "    \n",
    "    net3 = Conv2D(filters = filters, kernel_size=(1,1), padding='Same', activation = 'relu')(x)\n",
    "    net3 = Conv2D(filters = filters, kernel_size=(3,3), padding='Same', activation = 'relu')(net3)\n",
    "    net3 = Conv2D(filters = filters, kernel_size=(3,3), padding='Same', activation = 'relu')(net3)\n",
    "    \n",
    "    output = concatenate([net1, net2, net3], axis=3)\n",
    "    return output\n",
    "\n",
    "input_layer = Input(shape=input_shape)\n",
    "x = Conv2D(filters = 32, kernel_size=(5,5), padding='Same', activation = 'relu')(input_layer)\n",
    "x = Conv2D(filters = 32, kernel_size=(5,5), padding='Same', activation = 'relu')(x)\n",
    "x = BatchNormalization()(x)\n",
    "x = MaxPool2D(pool_size=(5, 5), strides=(2,2))(x)\n",
    "\n",
    "# last = x\n",
    "\n",
    "x = inception_block(x,32)\n",
    "x = MaxPool2D(pool_size=(5, 5), strides=(2,2),padding='Same')(x)\n",
    "\n",
    "# x = MaxPool2D(pool_size=(3, 3), strides=(2,2))(x)\n",
    "# x = inception_block(x,64)\n",
    "# x = MaxPool2D(pool_size=(3, 3), strides=(1,1),padding='Same')(x)\n",
    "\n",
    "x = inception_block(x,64)\n",
    "x = MaxPool2D(pool_size=(3, 3), strides=(1,1),padding='Same')(x)\n",
    "\n",
    "# x = concatenate([x, last], axis=3)\n",
    "# x = Conv2D(filters = 128, kernel_size=(3,3), padding='Same', activation = 'relu')(x)\n",
    "# x = Conv2D(filters = 128, kernel_size=(3,3), padding='Same', activation = 'relu')(x)\n",
    "# x = MaxPool2D(pool_size=(3, 3), strides=(1,1))(x)\n",
    "\n",
    "# x = Conv2D(filters = 128, kernel_size=(3,3), padding='Same', activation = 'relu')(x)\n",
    "# x = Conv2D(filters = 128, kernel_size=(3,3), padding='Same', activation = 'relu')(x)\n",
    "# x = MaxPool2D(pool_size=(3, 3), strides=(2,2),padding='Same')(x)\n",
    "\n",
    "# x = Conv2D(filters = 256, kernel_size=(3,3), padding='Same', activation = 'relu')(x)\n",
    "# x = Conv2D(filters = 256, kernel_size=(3,3), padding='Same', activation = 'relu')(x)\n",
    "# x = MaxPool2D(pool_size=(3, 3), strides=(1,1),padding='Same')(x)\n",
    "\n",
    "x = Flatten()(x)\n",
    "\n",
    "# x = Dense(2048, activation=tf.nn.relu)(x)\n",
    "# x = Dropout(0.5)(x)\n",
    "\n",
    "x = Dense(1024, activation=tf.nn.relu)(x)\n",
    "x = Dropout(0.5)(x)\n",
    "\n",
    "x = Dense(128, activation=tf.nn.relu)(x)\n",
    "x = Dropout(0.5)(x)\n",
    "\n",
    "x = Dense(10, activation=tf.nn.softmax)(x)\n",
    "\n",
    "model = Model(input_layer, x)\n",
    "model.summary()\n",
    "\n",
    "# optimizer = adagrad(lr=0.01)\n",
    "\n",
    "model.compile(optimizer='adam',\n",
    "              loss='sparse_categorical_crossentropy',\n",
    "              metrics=['accuracy'])"
   ]
  },
  {
   "cell_type": "code",
   "execution_count": 5,
   "metadata": {},
   "outputs": [
    {
     "name": "stdout",
     "output_type": "stream",
     "text": [
      "Epoch 1/16\n",
      "10000/10000 [==============================] - 1s 128us/sample - loss: 0.0614 - acc: 0.9822\n",
      "938/938 [==============================] - 28s 30ms/step - loss: 0.1401 - acc: 0.9630 - val_loss: 0.0611 - val_acc: 0.9822\n",
      "Epoch 2/16\n",
      "10000/10000 [==============================] - 1s 116us/sample - loss: 0.0888 - acc: 0.9766\n",
      "938/938 [==============================] - 28s 30ms/step - loss: 0.1250 - acc: 0.9682 - val_loss: 0.0888 - val_acc: 0.9766\n",
      "Epoch 3/16\n",
      "10000/10000 [==============================] - 1s 118us/sample - loss: 0.0607 - acc: 0.9827\n",
      "938/938 [==============================] - 28s 30ms/step - loss: 0.1119 - acc: 0.9710 - val_loss: 0.0604 - val_acc: 0.9827\n",
      "Epoch 4/16\n",
      "10000/10000 [==============================] - 1s 117us/sample - loss: 0.0447 - acc: 0.9865\n",
      "938/938 [==============================] - 29s 30ms/step - loss: 0.1013 - acc: 0.9737 - val_loss: 0.0446 - val_acc: 0.9865\n",
      "Epoch 5/16\n",
      "10000/10000 [==============================] - 1s 118us/sample - loss: 0.0516 - acc: 0.9858\n",
      "938/938 [==============================] - 29s 30ms/step - loss: 0.1027 - acc: 0.9738 - val_loss: 0.0514 - val_acc: 0.9858\n",
      "Epoch 6/16\n",
      "10000/10000 [==============================] - 1s 116us/sample - loss: 0.0380 - acc: 0.9892\n",
      "938/938 [==============================] - 29s 30ms/step - loss: 0.0917 - acc: 0.9765 - val_loss: 0.0378 - val_acc: 0.9892\n",
      "Epoch 7/16\n",
      "10000/10000 [==============================] - 1s 116us/sample - loss: 0.0294 - acc: 0.9916\n",
      "938/938 [==============================] - 29s 30ms/step - loss: 0.0886 - acc: 0.9775 - val_loss: 0.0292 - val_acc: 0.9916\n",
      "Epoch 8/16\n",
      "10000/10000 [==============================] - 1s 116us/sample - loss: 0.0536 - acc: 0.9864\n",
      "938/938 [==============================] - 29s 30ms/step - loss: 0.0906 - acc: 0.9772 - val_loss: 0.0534 - val_acc: 0.9864\n",
      "Epoch 9/16\n",
      "10000/10000 [==============================] - 1s 114us/sample - loss: 0.0255 - acc: 0.9918\n",
      "938/938 [==============================] - 29s 30ms/step - loss: 0.0851 - acc: 0.9787 - val_loss: 0.0254 - val_acc: 0.9918\n",
      "Epoch 10/16\n",
      "10000/10000 [==============================] - 1s 117us/sample - loss: 0.0260 - acc: 0.9929\n",
      "938/938 [==============================] - 29s 30ms/step - loss: 0.0804 - acc: 0.9801 - val_loss: 0.0259 - val_acc: 0.9929\n",
      "Epoch 11/16\n",
      "10000/10000 [==============================] - 1s 110us/sample - loss: 0.0297 - acc: 0.9915\n",
      "938/938 [==============================] - 29s 31ms/step - loss: 0.0777 - acc: 0.9808 - val_loss: 0.0296 - val_acc: 0.9915\n",
      "Epoch 12/16\n",
      "10000/10000 [==============================] - 1s 113us/sample - loss: 0.0378 - acc: 0.9908\n",
      "938/938 [==============================] - 28s 30ms/step - loss: 0.0793 - acc: 0.9800 - val_loss: 0.0376 - val_acc: 0.9908\n",
      "Epoch 13/16\n",
      "10000/10000 [==============================] - 1s 111us/sample - loss: 0.0332 - acc: 0.9892\n",
      "938/938 [==============================] - 28s 30ms/step - loss: 0.0773 - acc: 0.9804 - val_loss: 0.0330 - val_acc: 0.9892\n",
      "Epoch 14/16\n",
      "10000/10000 [==============================] - 1s 114us/sample - loss: 0.0227 - acc: 0.9943\n",
      "938/938 [==============================] - 28s 30ms/step - loss: 0.0730 - acc: 0.9817 - val_loss: 0.0226 - val_acc: 0.9943\n",
      "Epoch 15/16\n",
      "10000/10000 [==============================] - 1s 114us/sample - loss: 0.0358 - acc: 0.9893\n",
      "938/938 [==============================] - 28s 30ms/step - loss: 0.0722 - acc: 0.9822 - val_loss: 0.0357 - val_acc: 0.9893\n",
      "Epoch 16/16\n",
      "10000/10000 [==============================] - 1s 109us/sample - loss: 0.0226 - acc: 0.9939\n",
      "938/938 [==============================] - 28s 30ms/step - loss: 0.0728 - acc: 0.9819 - val_loss: 0.0225 - val_acc: 0.9939\n"
     ]
    }
   ],
   "source": [
    "\n",
    "datagen = ImageDataGenerator(\n",
    "    rotation_range=15,\n",
    "    width_shift_range=0.2,\n",
    "    shear_range = 3,\n",
    "    zoom_range = 0.2,\n",
    "    height_shift_range=0.2)\n",
    "\n",
    "# compute quantities required for featurewise normalization\n",
    "# (std, mean, and principal components if ZCA whitening is applied)\n",
    "datagen.fit(x_train)\n",
    "\n",
    "# fits the model on batches with real-time data augmentation:\n",
    "history = model.fit_generator(datagen.flow(x_train, y_train, batch_size=batch_size),\n",
    "                    steps_per_epoch=len(x_train) / batch_size, epochs=epochs, validation_data=(x_test,y_test))\n",
    "model.save_weights(\"mnist_temp2.h5\")"
   ]
  },
  {
   "cell_type": "code",
   "execution_count": 6,
   "metadata": {},
   "outputs": [
    {
     "data": {
      "image/png": "[encoded data removed]",
      "text/plain": [
       "<Figure size 432x288 with 1 Axes>"
      ]
     },
     "metadata": {
      "needs_background": "light"
     },
     "output_type": "display_data"
    }
   ],
   "source": [
    "plt.plot(history.history['acc'])\n",
    "plt.plot(history.history['val_acc'])\n",
    "plt.title('model accuracy')\n",
    "plt.ylabel('accuracy')\n",
    "plt.xlabel('epoch')\n",
    "plt.legend(['train', 'test'], loc='upper left')\n",
    "plt.grid()\n",
    "plt.savefig(\"accuracy.jpg\")\n",
    "\n",
    "plt.show()"
   ]
  },
  {
   "cell_type": "code",
   "execution_count": 7,
   "metadata": {},
   "outputs": [
    {
     "data": {
      "image/png": "[encoded data removed]",
      "text/plain": [
       "<Figure size 432x288 with 1 Axes>"
      ]
     },
     "metadata": {
      "needs_background": "light"
     },
     "output_type": "display_data"
    }
   ],
   "source": [
    "plt.plot(history.history['loss'])\n",
    "plt.plot(history.history['val_loss'])\n",
    "plt.title('model loss')\n",
    "plt.ylabel('loss')\n",
    "plt.xlabel('epoch')\n",
    "plt.legend(['train', 'test'], loc='upper left')\n",
    "plt.grid()\n",
    "plt.savefig(\"loss.jpg\")\n",
    "plt.show()"
   ]
  },
  {
   "cell_type": "code",
   "execution_count": 9,
   "metadata": {},
   "outputs": [],
   "source": [
    "pr =model.predict(x_test)\n",
    "\n",
    "pred = []\n",
    "for i in pr:\n",
    "    x=np.argmax(i)\n",
    "    pred.append(x)\n",
    "pred = np.array(pred)\n",
    "\n",
    "f1 = f1_score(y_test, pred, average=\"macro\")"
   ]
  },
  {
   "cell_type": "code",
   "execution_count": 10,
   "metadata": {},
   "outputs": [
    {
     "name": "stdout",
     "output_type": "stream",
     "text": [
      "[[9.740e+02 0.000e+00 2.000e+00 0.000e+00 0.000e+00 0.000e+00 0.000e+00\n",
      "  1.000e+00 2.000e+00 1.000e+00]\n",
      " [0.000e+00 1.127e+03 2.000e+00 0.000e+00 1.000e+00 0.000e+00 3.000e+00\n",
      "  2.000e+00 0.000e+00 0.000e+00]\n",
      " [0.000e+00 0.000e+00 1.027e+03 0.000e+00 1.000e+00 0.000e+00 0.000e+00\n",
      "  4.000e+00 0.000e+00 0.000e+00]\n",
      " [0.000e+00 0.000e+00 0.000e+00 1.004e+03 0.000e+00 4.000e+00 0.000e+00\n",
      "  0.000e+00 2.000e+00 0.000e+00]\n",
      " [0.000e+00 0.000e+00 0.000e+00 0.000e+00 9.770e+02 0.000e+00 0.000e+00\n",
      "  0.000e+00 1.000e+00 4.000e+00]\n",
      " [0.000e+00 0.000e+00 0.000e+00 1.000e+00 0.000e+00 8.870e+02 1.000e+00\n",
      "  1.000e+00 2.000e+00 0.000e+00]\n",
      " [3.000e+00 1.000e+00 0.000e+00 0.000e+00 2.000e+00 0.000e+00 9.490e+02\n",
      "  0.000e+00 3.000e+00 0.000e+00]\n",
      " [0.000e+00 1.000e+00 3.000e+00 0.000e+00 0.000e+00 0.000e+00 0.000e+00\n",
      "  1.023e+03 0.000e+00 1.000e+00]\n",
      " [0.000e+00 0.000e+00 1.000e+00 1.000e+00 0.000e+00 0.000e+00 0.000e+00\n",
      "  0.000e+00 9.720e+02 0.000e+00]\n",
      " [0.000e+00 0.000e+00 0.000e+00 0.000e+00 2.000e+00 1.000e+00 0.000e+00\n",
      "  3.000e+00 4.000e+00 9.990e+02]]\n",
      "0.9938853422844387\n"
     ]
    }
   ],
   "source": [
    "cm = np.array(confusion_matrix(y_test,pred),dtype = np.float32)\n",
    "print(cm)\n",
    "print(f1)"
   ]
  },
  {
   "cell_type": "code",
   "execution_count": 11,
   "metadata": {},
   "outputs": [
    {
     "data": {
      "image/png": "[encoded data removed]",
      "text/plain": [
       "<Figure size 288x288 with 2 Axes>"
      ]
     },
     "metadata": {
      "needs_background": "light"
     },
     "output_type": "display_data"
    }
   ],
   "source": [
    "np.save(\"confusion_matrix.npy\",cm)\n",
    "plt.matshow(cm)\n",
    "plt.colorbar()\n",
    "plt.savefig(\"confusion.jpg\")"
   ]
  },
  {
   "cell_type": "code",
   "execution_count": null,
   "metadata": {},
   "outputs": [],
   "source": []
  }
 ],
 "metadata": {
  "kernelspec": {
   "display_name": "Python 3",
   "language": "python",
   "name": "python3"
  },
  "language_info": {
   "codemirror_mode": {
    "name": "ipython",
    "version": 3
   },
   "file_extension": ".py",
   "mimetype": "text/x-python",
   "name": "python",
   "nbconvert_exporter": "python",
   "pygments_lexer": "ipython3",
   "version": "3.7.1"
  }
 },
 "nbformat": 4,
 "nbformat_minor": 2
}
