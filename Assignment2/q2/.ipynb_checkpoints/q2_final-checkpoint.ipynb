{
 "cells": [
  {
   "cell_type": "code",
   "execution_count": null,
   "metadata": {},
   "outputs": [],
   "source": [
    "from __future__ import print_function\n",
    "import numpy as np\n",
    "import pandas as pd\n",
    "import cv2\n",
    "import os\n",
    "batch_size = 32\n",
    "epochs = 32\n",
    "import keras\n",
    "from keras.models import Model,Sequential\n",
    "from keras.layers import Lambda, Dense, Dropout, Flatten, Conv2D, MaxPool2D, BatchNormalization, GaussianNoise, Input, Dropout, concatenate\n",
    "from keras import optimizers\n",
    "from keras.preprocessing.image import img_to_array\n",
    "from sklearn.metrics import accuracy_score, f1_score, precision_score, recall_score, classification_report, confusion_matrix\n",
    "import matplotlib.pyplot as plt\n",
    "learning_rate = 0.0002\n",
    "input_shape = (None,None,3)\n",
    "from keras.applications import ResNet50, VGG16,VGG19\n",
    "import keras.backend as K\n",
    "from keras.backend import tf as ktf\n"
   ]
  },
  {
   "cell_type": "code",
   "execution_count": null,
   "metadata": {},
   "outputs": [],
   "source": [
    "data_dir = \"../input/\"\n",
    "(x_train, y_train_length, y_train_width, y_train_color, y_train_angle) = (np.load(data_dir +'x_train.npy'), np.load(data_dir+'y_train_length.npy'), np.load(data_dir+'y_train_width.npy'), np.load(data_dir+'y_train_color.npy'), np.load(data_dir+'y_train_angle.npy'))\n",
    "(x_test, y_test_length, y_test_width, y_test_color, y_test_angle) = (np.load(data_dir+'x_test.npy'), np.load(data_dir+'y_test_length.npy'), np.load(data_dir+'y_test_width.npy'), np.load(data_dir+'y_test_color.npy'), np.load(data_dir+'y_test_angle.npy'))"
   ]
  },
  {
   "cell_type": "code",
   "execution_count": null,
   "metadata": {},
   "outputs": [],
   "source": [
    "# print(images.shape)\n",
    "# for i in range(3):\n",
    "#     labels[i] = labels[i].reshape((labels[i].shape[0],1))\n",
    "#     print(labels[i].shape)\n",
    "labels = [y_train_length, y_train_width, y_train_color, y_train_angle]\n",
    "print(labels[0].shape)\n",
    "print(x_train.shape)"
   ]
  },
  {
   "cell_type": "code",
   "execution_count": null,
   "metadata": {},
   "outputs": [],
   "source": [
    "input_tensor = Input(shape=(28, 28, 3))\n",
    "# resize = Lambda(lambda image: ktf.image.resize_images(image, (32, 32)))(input_tensor)\n",
    "# res = ResNet50(weights='imagenet',include_top=False, input_tensor = resize)\n",
    "\n",
    "# for i in range(94):\n",
    "#     res.layers.pop()\n",
    "# # res.summary()\n",
    "# res.layers[-1].outbound_nodes = []\n",
    "# inp = res.input\n",
    "# x = res.layers[-1].output\n",
    "# x = Flatten()(x)\n",
    "# x = Dense(256, activation = 'relu')(x)\n",
    "# x = Dropout(0.25)(x)\n",
    "\n",
    "x = Conv2D(filters = 32, kernel_size=(3,3), padding='Same', activation = 'relu')(input_tensor)\n",
    "x = BatchNormalization()(x)\n",
    "x = MaxPool2D(pool_size=(5, 5), strides=(2,2))(x)\n",
    "\n",
    "x = Conv2D(filters = 32, kernel_size=(3,3), padding='Same', activation = 'relu')(input_tensor)\n",
    "# x = BatchNormalization()(x)\n",
    "x = MaxPool2D(pool_size=(5, 5), strides=(2,2))(x)\n",
    "\n",
    "x = Flatten()(x)\n",
    "\n",
    "length = Dense(1, activation = 'sigmoid',name = 'length')(x)\n",
    "\n",
    "width = Dense(1, activation = 'sigmoid',name = 'width')(x)\n",
    "\n",
    "color = Dense(1, activation = 'sigmoid',name = 'color')(x)\n",
    "\n",
    "angle = Dense(256, activation = 'softmax',name = 'angle')(x)\n",
    "angle = Dropout(0.5)(x)\n",
    "angle = Dense(12, activation = 'softmax',name = 'angle')(angle)\n",
    "\n",
    "model = Model(input_tensor,[length, width, color, angle] )\n",
    "model.summary()"
   ]
  },
  {
   "cell_type": "code",
   "execution_count": null,
   "metadata": {},
   "outputs": [],
   "source": [
    "epochs = 5\n",
    "\n",
    "dataset_len = x_train.shape[0]\n",
    "decay_rate = learning_rate / ((dataset_len / batch_size) * epochs)\n",
    "\n",
    "# optimizer = optimizers.Adam(learning_rate, 0.5, decay=decay_rate)\n",
    "loss = ['binary_crossentropy', 'binary_crossentropy', 'binary_crossentropy', 'sparse_categorical_crossentropy']\n",
    "loss_weights = [0.0, 0.0, 0.0, 1]\n",
    "model.compile(optimizer='adam',\n",
    "              loss=loss,\n",
    "              loss_weights = loss_weights,\n",
    "              metrics=['accuracy'])\n",
    "# len(labels[1])"
   ]
  },
  {
   "cell_type": "code",
   "execution_count": null,
   "metadata": {
    "scrolled": false
   },
   "outputs": [],
   "source": [
    "history = model.fit(x_train, labels, epochs=epochs, batch_size=batch_size,validation_split=0.1, shuffle=True,verbose=1)\n",
    "# from keras.preprocessing.image import *\n",
    "\n",
    "# datagen = ImageDataGenerator(\n",
    "#     rotation_range=2,\n",
    "#     width_shift_range=0.1,\n",
    "#     shear_range = 0.1,\n",
    "#     zoom_range = 0.1,\n",
    "#     height_shift_range=0.1)\n",
    "\n",
    "# datagen.fit(x_train)\n",
    "# epochs = 5\n",
    "# history = model.fit_generator(datagen.flow(images, labels, batch_size=batch_size),steps_per_epoch=len(x_train)/batch_size, epochs=epochs, validation_data=(x_test,y_test))\n",
    "# model.save_weights(\"line_22.h5\")"
   ]
  },
  {
   "cell_type": "code",
   "execution_count": null,
   "metadata": {},
   "outputs": [],
   "source": [
    "model.evaluate(x_test, [y_test_length, y_test_width, y_test_color, y_test_angle])"
   ]
  },
  {
   "cell_type": "code",
   "execution_count": null,
   "metadata": {},
   "outputs": [],
   "source": [
    "import tensorflow as tf\n",
    "inputs = tf.keras.layers.Input(shape=(28, 28, 3), name='inputs')\n",
    "\n",
    "feature_map = tf.keras.layers.MaxPool2D(pool_size=(2, 2), strides=2)(\n",
    "\ttf.keras.layers.BatchNormalization(axis = 3)(\n",
    "\t\ttf.keras.layers.Conv2D(32, (3, 3), activation='relu')(\n",
    "\t\t\tinputs)))\n",
    "\n",
    "output_length = tf.keras.layers.Dense(2, activation='sigmoid', name='output_length')(tf.keras.layers.Dropout(0.2)(tf.keras.layers.Dense(128, activation='relu')(tf.keras.layers.Flatten()(feature_map))))\n",
    "output_width = tf.keras.layers.Dense(2, activation='sigmoid', name='output_width')(tf.keras.layers.Dropout(0.2)(tf.keras.layers.Dense(128, activation='relu')(tf.keras.layers.Flatten()(feature_map))))\n",
    "output_color = tf.keras.layers.Dense(2, activation='sigmoid', name='output_color')(tf.keras.layers.Dropout(0.2)(tf.keras.layers.Dense(128, activation='relu')(tf.keras.layers.Flatten()(feature_map))))\n",
    "output_angle = tf.keras.layers.Dense(12, activation='softmax', name='output_angle')(tf.keras.layers.Dropout(0.2)(tf.keras.layers.Dense(256, activation='relu')(tf.keras.layers.Flatten()(feature_map))))\n",
    "\n",
    "outputs = [output_length, output_width, output_color, output_angle]\n",
    "\n",
    "model = tf.keras.Model(inputs=inputs, outputs=outputs)\n",
    "\n",
    "model.compile(optimizer='adam',\n",
    "  loss={'output_length': 'sparse_categorical_crossentropy',\n",
    "   'output_width': 'sparse_categorical_crossentropy',\n",
    "   'output_color': 'sparse_categorical_crossentropy',\n",
    "   'output_angle': 'sparse_categorical_crossentropy'},\n",
    "  metrics=['accuracy'])\n",
    "\n",
    "print(\"#############################################\t\t\t\tTraining\t\t\t\t##############################################\")\n",
    "model_history = model.fit(x_train, {\n",
    "\t'output_length': y_train_length,\n",
    "\t'output_width': y_train_width,\n",
    "\t'output_color': y_train_color,\n",
    "\t'output_angle': y_train_angle\n",
    "}, epochs=5,validation_split=0.1)"
   ]
  },
  {
   "cell_type": "code",
   "execution_count": null,
   "metadata": {},
   "outputs": [],
   "source": [
    "result = model.evaluate(x_test, {\n",
    "\t'output_length': y_test_length,\n",
    "\t'output_width': y_test_width,\n",
    "\t'output_color': y_test_color,\n",
    "\t'output_angle': y_test_angle\n",
    "})"
   ]
  },
  {
   "cell_type": "code",
   "execution_count": null,
   "metadata": {},
   "outputs": [],
   "source": []
  }
 ],
 "metadata": {
  "kernelspec": {
   "display_name": "Python 3",
   "language": "python",
   "name": "python3"
  },
  "language_info": {
   "codemirror_mode": {
    "name": "ipython",
    "version": 3
   },
   "file_extension": ".py",
   "mimetype": "text/x-python",
   "name": "python",
   "nbconvert_exporter": "python",
   "pygments_lexer": "ipython3",
   "version": "3.7.1"
  }
 },
 "nbformat": 4,
 "nbformat_minor": 2
}
