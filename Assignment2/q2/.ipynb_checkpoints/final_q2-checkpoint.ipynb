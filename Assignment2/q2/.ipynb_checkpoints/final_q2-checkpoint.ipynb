{
 "cells": [
  {
   "cell_type": "code",
   "execution_count": 1,
   "metadata": {},
   "outputs": [],
   "source": [
    "from __future__ import print_function\n",
    "import numpy as np\n",
    "import pandas as pd\n",
    "import cv2\n",
    "import os\n",
    "batch_size = 32\n",
    "epochs = 2\n",
    "from tensorflow.keras.models import Model\n",
    "import tensorflow as tf\n",
    "mnist = tf.keras.datasets.mnist\n",
    "import numpy as np\n",
    "from sklearn.metrics import accuracy_score, f1_score, precision_score, recall_score, classification_report, confusion_matrix\n",
    "import matplotlib.pyplot as plt\n",
    "from tensorflow.keras.layers import Conv2D, Dense, MaxPool2D, Flatten, BatchNormalization, Input, Dropout, concatenate\n",
    "\n",
    "from tensorflow.keras.preprocessing.image import *\n",
    "learning_rate = 0.0002\n",
    "input_shape = (28,28,3)"
   ]
  },
  {
   "cell_type": "code",
   "execution_count": 2,
   "metadata": {},
   "outputs": [],
   "source": [
    "(x_train, y_train_length, y_train_width, y_train_color, y_train_angle) = (np.load('x_train.npy'), np.load('y_train_length.npy'), np.load('y_train_width.npy'), np.load('y_train_color.npy'), np.load('y_train_angle.npy'))\n",
    "(x_test, y_test_length, y_test_width, y_test_color, y_test_angle) = (np.load('x_test.npy'), np.load('y_test_length.npy'), np.load('y_test_width.npy'), np.load('y_test_color.npy'), np.load('y_test_angle.npy'))"
   ]
  },
  {
   "cell_type": "code",
   "execution_count": 3,
   "metadata": {},
   "outputs": [],
   "source": [
    "def inception_block(x, filters):\n",
    "#     last = x\n",
    "\n",
    "    net1 = Conv2D(filters = filters, kernel_size=(1,1), padding='Same', activation = 'relu')(x)\n",
    "\n",
    "    net2 = Conv2D(filters = filters, kernel_size=(1,1), padding='Same', activation = 'relu')(x)\n",
    "    net2 = Conv2D(filters = filters, kernel_size=(3,3), padding='Same', activation = 'relu')(net2)\n",
    "\n",
    "    net3 = Conv2D(filters = filters, kernel_size=(1,1), padding='Same', activation = 'relu')(x)\n",
    "    net3 = Conv2D(filters = filters, kernel_size=(3,3), padding='Same', activation = 'relu')(net3)\n",
    "    net3 = Conv2D(filters = filters, kernel_size=(3,3), padding='Same', activation = 'relu')(net3)\n",
    "\n",
    "    output = concatenate([net1, net2, net3], axis=3)\n",
    "    return output"
   ]
  },
  {
   "cell_type": "code",
   "execution_count": 21,
   "metadata": {},
   "outputs": [
    {
     "ename": "TypeError",
     "evalue": "'Tensor' object is not callable",
     "output_type": "error",
     "traceback": [
      "\u001b[0;31m---------------------------------------------------------------------------\u001b[0m",
      "\u001b[0;31mTypeError\u001b[0m                                 Traceback (most recent call last)",
      "\u001b[0;32m<ipython-input-21-e956c0d371da>\u001b[0m in \u001b[0;36m<module>\u001b[0;34m\u001b[0m\n\u001b[1;32m     10\u001b[0m \u001b[0;31m# x = MaxPool2D(pool_size=(5, 5), strides=(2,2),padding='Same')(x)\u001b[0m\u001b[0;34m\u001b[0m\u001b[0;34m\u001b[0m\u001b[0;34m\u001b[0m\u001b[0m\n\u001b[1;32m     11\u001b[0m \u001b[0;34m\u001b[0m\u001b[0m\n\u001b[0;32m---> 12\u001b[0;31m \u001b[0mx\u001b[0m \u001b[0;34m=\u001b[0m \u001b[0minception_block\u001b[0m\u001b[0;34m(\u001b[0m\u001b[0mx\u001b[0m\u001b[0;34m,\u001b[0m\u001b[0;36m32\u001b[0m\u001b[0;34m)\u001b[0m\u001b[0;34m(\u001b[0m\u001b[0mx\u001b[0m\u001b[0;34m)\u001b[0m\u001b[0;34m\u001b[0m\u001b[0;34m\u001b[0m\u001b[0m\n\u001b[0m\u001b[1;32m     13\u001b[0m \u001b[0mx\u001b[0m \u001b[0;34m=\u001b[0m \u001b[0mMaxPool2D\u001b[0m\u001b[0;34m(\u001b[0m\u001b[0mpool_size\u001b[0m\u001b[0;34m=\u001b[0m\u001b[0;34m(\u001b[0m\u001b[0;36m5\u001b[0m\u001b[0;34m,\u001b[0m \u001b[0;36m5\u001b[0m\u001b[0;34m)\u001b[0m\u001b[0;34m,\u001b[0m \u001b[0mstrides\u001b[0m\u001b[0;34m=\u001b[0m\u001b[0;34m(\u001b[0m\u001b[0;36m2\u001b[0m\u001b[0;34m,\u001b[0m\u001b[0;36m2\u001b[0m\u001b[0;34m)\u001b[0m\u001b[0;34m,\u001b[0m\u001b[0mpadding\u001b[0m\u001b[0;34m=\u001b[0m\u001b[0;34m'Same'\u001b[0m\u001b[0;34m)\u001b[0m\u001b[0;34m(\u001b[0m\u001b[0mx\u001b[0m\u001b[0;34m)\u001b[0m\u001b[0;34m\u001b[0m\u001b[0;34m\u001b[0m\u001b[0m\n\u001b[1;32m     14\u001b[0m \u001b[0;34m\u001b[0m\u001b[0m\n",
      "\u001b[0;31mTypeError\u001b[0m: 'Tensor' object is not callable"
     ]
    }
   ],
   "source": [
    "input_layer = Input(shape=input_shape)\n",
    "x = Conv2D(filters = 32, kernel_size=(5,5), padding='Same', activation = 'relu')(input_layer)\n",
    "x = Conv2D(filters = 32, kernel_size=(5,5), padding='Same', activation = 'relu')(x)\n",
    "x = BatchNormalization()(x)\n",
    "x = MaxPool2D(pool_size=(5, 5), strides=(2,2))(x)\n",
    "\n",
    "# last = x\n",
    "\n",
    "x = inception_block(x,64)\n",
    "x = MaxPool2D(pool_size=(5, 5), strides=(2,2),padding='Same')(x)\n",
    "\n",
    "x = inception_block(x,64)\n",
    "x = MaxPool2D(pool_size=(5, 5), strides=(2,2),padding='Same')(x)\n",
    "\n",
    "# x = MaxPool2D(pool_size=(3, 3), strides=(2,2))(x)\n",
    "# x = inception_block(x,64)\n",
    "# x = MaxPool2D(pool_size=(3, 3), strides=(1,1),padding='Same')(x)\n",
    "\n",
    "x = inception_block(x,128)\n",
    "x = MaxPool2D(pool_size=(3, 3), strides=(1,1),padding='Same')(x)\n",
    "\n",
    "# x = concatenate([x, last], axis=3)\n",
    "# x = Conv2D(filters = 128, kernel_size=(3,3), padding='Same', activation = 'relu')(x)\n",
    "# x = Conv2D(filters = 128, kernel_size=(3,3), padding='Same', activation = 'relu')(x)\n",
    "# x = MaxPool2D(pool_size=(3, 3), strides=(1,1))(x)\n",
    "\n",
    "# x = Conv2D(filters = 128, kernel_size=(3,3), padding='Same', activation = 'relu')(x)\n",
    "# x = Conv2D(filters = 128, kernel_size=(3,3), padding='Same', activation = 'relu')(x)\n",
    "# x = MaxPool2D(pool_size=(3, 3), strides=(2,2),padding='Same')(x)\n",
    "\n",
    "# x = Conv2D(filters = 256, kernel_size=(3,3), padding='Same', activation = 'relu')(x)\n",
    "# x = Conv2D(filters = 256, kernel_size=(3,3), padding='Same', activation = 'relu')(x)\n",
    "# x = MaxPool2D(pool_size=(3, 3), strides=(1,1),padding='Same')(x)\n",
    "\n",
    "x = Flatten()(x)\n",
    "\n",
    "# x = Dense(2048, activation=tf.nn.relu)(x)\n",
    "x = Dropout(0.5)(x)\n",
    "\n",
    "# x = Dense(1024, activation=tf.nn.relu)(x)\n",
    "# x = Dropout(0.5)(x)\n",
    "\n",
    "# x = Dense(128, activation=tf.nn.relu)(x)\n",
    "# x = Dropout(0.5)(x)\n",
    "\n",
    "# x = Dense(96, activation=tf.nn.softmax)(x)\n",
    "\n",
    "from tensorflow.keras.models import Model\n",
    "\n",
    "\n",
    "# model = Model(input_layer, x)"
   ]
  },
  {
   "cell_type": "code",
   "execution_count": 16,
   "metadata": {},
   "outputs": [],
   "source": [
    "# model.load_weights(\"line_2.h5\")"
   ]
  },
  {
   "cell_type": "code",
   "execution_count": 17,
   "metadata": {},
   "outputs": [
    {
     "name": "stdout",
     "output_type": "stream",
     "text": [
      "__________________________________________________________________________________________________\n",
      "Layer (type)                    Output Shape         Param #     Connected to                     \n",
      "==================================================================================================\n",
      "input_3 (InputLayer)            (None, 28, 28, 3)    0                                            \n",
      "__________________________________________________________________________________________________\n",
      "conv2d_28 (Conv2D)              (None, 28, 28, 32)   2432        input_3[0][0]                    \n",
      "__________________________________________________________________________________________________\n",
      "conv2d_29 (Conv2D)              (None, 28, 28, 32)   25632       conv2d_28[0][0]                  \n",
      "__________________________________________________________________________________________________\n",
      "batch_normalization_v1_2 (Batch (None, 28, 28, 32)   128         conv2d_29[0][0]                  \n",
      "__________________________________________________________________________________________________\n",
      "max_pooling2d_6 (MaxPooling2D)  (None, 12, 12, 32)   0           batch_normalization_v1_2[0][0]   \n",
      "__________________________________________________________________________________________________\n",
      "conv2d_33 (Conv2D)              (None, 12, 12, 64)   2112        max_pooling2d_6[0][0]            \n",
      "__________________________________________________________________________________________________\n",
      "conv2d_31 (Conv2D)              (None, 12, 12, 64)   2112        max_pooling2d_6[0][0]            \n",
      "__________________________________________________________________________________________________\n",
      "conv2d_34 (Conv2D)              (None, 12, 12, 64)   36928       conv2d_33[0][0]                  \n",
      "__________________________________________________________________________________________________\n",
      "conv2d_30 (Conv2D)              (None, 12, 12, 64)   2112        max_pooling2d_6[0][0]            \n",
      "__________________________________________________________________________________________________\n",
      "conv2d_32 (Conv2D)              (None, 12, 12, 64)   36928       conv2d_31[0][0]                  \n",
      "__________________________________________________________________________________________________\n",
      "conv2d_35 (Conv2D)              (None, 12, 12, 64)   36928       conv2d_34[0][0]                  \n",
      "__________________________________________________________________________________________________\n",
      "concatenate_4 (Concatenate)     (None, 12, 12, 192)  0           conv2d_30[0][0]                  \n",
      "                                                                 conv2d_32[0][0]                  \n",
      "                                                                 conv2d_35[0][0]                  \n",
      "__________________________________________________________________________________________________\n",
      "max_pooling2d_7 (MaxPooling2D)  (None, 6, 6, 192)    0           concatenate_4[0][0]              \n",
      "__________________________________________________________________________________________________\n",
      "conv2d_39 (Conv2D)              (None, 6, 6, 128)    24704       max_pooling2d_7[0][0]            \n",
      "__________________________________________________________________________________________________\n",
      "conv2d_37 (Conv2D)              (None, 6, 6, 128)    24704       max_pooling2d_7[0][0]            \n",
      "__________________________________________________________________________________________________\n",
      "conv2d_40 (Conv2D)              (None, 6, 6, 128)    147584      conv2d_39[0][0]                  \n",
      "__________________________________________________________________________________________________\n",
      "conv2d_36 (Conv2D)              (None, 6, 6, 128)    24704       max_pooling2d_7[0][0]            \n",
      "__________________________________________________________________________________________________\n",
      "conv2d_38 (Conv2D)              (None, 6, 6, 128)    147584      conv2d_37[0][0]                  \n",
      "__________________________________________________________________________________________________\n",
      "conv2d_41 (Conv2D)              (None, 6, 6, 128)    147584      conv2d_40[0][0]                  \n",
      "__________________________________________________________________________________________________\n",
      "concatenate_5 (Concatenate)     (None, 6, 6, 384)    0           conv2d_36[0][0]                  \n",
      "                                                                 conv2d_38[0][0]                  \n",
      "                                                                 conv2d_41[0][0]                  \n",
      "__________________________________________________________________________________________________\n",
      "max_pooling2d_8 (MaxPooling2D)  (None, 6, 6, 384)    0           concatenate_5[0][0]              \n",
      "__________________________________________________________________________________________________\n",
      "flatten_2 (Flatten)             (None, 13824)        0           max_pooling2d_8[0][0]            \n",
      "__________________________________________________________________________________________________\n",
      "dropout_3 (Dropout)             (None, 13824)        0           flatten_2[0][0]                  \n",
      "__________________________________________________________________________________________________\n",
      "dense_2 (Dense)                 (None, 1024)         14156800    dropout_3[0][0]                  \n",
      "__________________________________________________________________________________________________\n",
      "dropout_4 (Dropout)             (None, 1024)         0           dense_2[0][0]                    \n",
      "__________________________________________________________________________________________________\n",
      "length (Dense)                  (None, 1)            13825       dropout_3[0][0]                  \n",
      "__________________________________________________________________________________________________\n",
      "width (Dense)                   (None, 1)            13825       dropout_3[0][0]                  \n",
      "__________________________________________________________________________________________________\n",
      "color (Dense)                   (None, 1)            13825       dropout_3[0][0]                  \n",
      "__________________________________________________________________________________________________\n",
      "angle (Dense)                   (None, 12)           12300       dropout_4[0][0]                  \n",
      "==================================================================================================\n",
      "Total params: 14,872,751\n",
      "Trainable params: 14,872,687\n",
      "Non-trainable params: 64\n",
      "__________________________________________________________________________________________________\n"
     ]
    }
   ],
   "source": [
    "# model.layers.pop()\n",
    "# model.layers.pop()\n",
    "# model.layers.pop()\n",
    "\n",
    "\n",
    "# del a\n",
    "# model.layers[-1].outbound_nodes = []\n",
    "# inp = model.input\n",
    "# x = model.layers[-2].output\n",
    "\n",
    "l = Dense(1, activation=tf.nn.sigmoid, name=\"length\")(x)\n",
    "w = Dense(1, activation=tf.nn.sigmoid, name=\"width\")(x)\n",
    "c = Dense(1, activation=tf.nn.sigmoid, name=\"color\")(x)\n",
    "a = Dense(1024, activation=tf.nn.relu)(x)\n",
    "a = Dropout(0.5)(a)\n",
    "a = Dense(12, activation=tf.nn.softmax, name = \"angle\")(a)\n",
    "\n",
    "\n",
    "model = Model(input_layer,[l,w,c,a])\n",
    "model.summary()"
   ]
  },
  {
   "cell_type": "code",
   "execution_count": 18,
   "metadata": {},
   "outputs": [],
   "source": [
    "loss = ['binary_crossentropy', 'binary_crossentropy', 'binary_crossentropy', 'sparse_categorical_crossentropy']\n",
    "# loss_weights = [0.5, 0.5, 0.5, 3.3]\n",
    "\n",
    "model.compile(optimizer='adam',\n",
    "              loss=loss,\n",
    "#               loss_weights = loss_weights,\n",
    "              metrics=['accuracy'])"
   ]
  },
  {
   "cell_type": "code",
   "execution_count": 20,
   "metadata": {},
   "outputs": [
    {
     "name": "stdout",
     "output_type": "stream",
     "text": [
      "Train on 23040 samples, validate on 5760 samples\n",
      "Epoch 1/2\n",
      "23040/23040 [==============================] - 30s 1ms/sample - loss: 0.0977 - length_loss: 0.0135 - width_loss: 0.0033 - color_loss: 0.0027 - angle_loss: 0.0782 - length_acc: 0.9959 - width_acc: 0.9990 - color_acc: 0.9993 - angle_acc: 0.9785 - val_loss: 7.1364 - val_length_loss: 0.0315 - val_width_loss: 0.0024 - val_color_loss: 4.1420e-04 - val_angle_loss: 7.1021 - val_length_acc: 0.9905 - val_width_acc: 1.0000 - val_color_acc: 1.0000 - val_angle_acc: 0.4278\n",
      "Epoch 2/2\n",
      "23040/23040 [==============================] - 30s 1ms/sample - loss: 0.1142 - length_loss: 0.0158 - width_loss: 0.0073 - color_loss: 0.0036 - angle_loss: 0.0876 - length_acc: 0.9951 - width_acc: 0.9981 - color_acc: 0.9990 - angle_acc: 0.9776 - val_loss: 10.3774 - val_length_loss: 0.0602 - val_width_loss: 2.0963e-04 - val_color_loss: 1.3103e-04 - val_angle_loss: 10.3169 - val_length_acc: 0.9776 - val_width_acc: 1.0000 - val_color_acc: 1.0000 - val_angle_acc: 0.1667\n"
     ]
    }
   ],
   "source": [
    "# datagen = ImageDataGenerator(\n",
    "#     rotation_range=2,\n",
    "#     width_shift_range=0.1,\n",
    "#     shear_range = 0.1,\n",
    "#     zoom_range = 0.1,\n",
    "#     height_shift_range=0.1)\n",
    "\n",
    "y_train =[y_train_length.reshape(y_train_length.shape[0],1), y_train_width.reshape(y_train_width.shape[0],1), y_train_color.reshape(y_train_length.shape[0],1), y_train_angle]\n",
    "\n",
    "# datagen.fit(x_train)\n",
    "# epochs = 5\n",
    "# history = model.fit_generator(datagen.flow(x_train, y_train, batch_size=batch_size),steps_per_epoch=len(x_train)/batch_size, epochs=epochs, validation_data=(x_test,y_test))\n",
    "history = model.fit(x_train, y_train, epochs=epochs, batch_size=batch_size,validation_split=0.2, shuffle=True,verbose=1)\n",
    "model.save_weights(\"line_222.h5\")"
   ]
  },
  {
   "cell_type": "code",
   "execution_count": null,
   "metadata": {},
   "outputs": [],
   "source": []
  },
  {
   "cell_type": "code",
   "execution_count": null,
   "metadata": {},
   "outputs": [],
   "source": []
  },
  {
   "cell_type": "code",
   "execution_count": null,
   "metadata": {},
   "outputs": [],
   "source": []
  },
  {
   "cell_type": "code",
   "execution_count": null,
   "metadata": {},
   "outputs": [],
   "source": []
  }
 ],
 "metadata": {
  "kernelspec": {
   "display_name": "Python 3",
   "language": "python",
   "name": "python3"
  },
  "language_info": {
   "codemirror_mode": {
    "name": "ipython",
    "version": 3
   },
   "file_extension": ".py",
   "mimetype": "text/x-python",
   "name": "python",
   "nbconvert_exporter": "python",
   "pygments_lexer": "ipython3",
   "version": "3.7.1"
  }
 },
 "nbformat": 4,
 "nbformat_minor": 2
}
