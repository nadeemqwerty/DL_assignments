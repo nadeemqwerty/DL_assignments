{
 "cells": [
  {
   "cell_type": "code",
   "execution_count": 1,
   "metadata": {},
   "outputs": [
    {
     "name": "stderr",
     "output_type": "stream",
     "text": [
      "Using TensorFlow backend.\n"
     ]
    }
   ],
   "source": [
    "from __future__ import print_function\n",
    "import numpy as np\n",
    "import pandas as pd\n",
    "import cv2\n",
    "import os\n",
    "batch_size = 32\n",
    "epochs = 12\n",
    "import keras\n",
    "from keras.models import Model,Sequential\n",
    "from keras.layers import Lambda, Dense, Dropout, Flatten, Conv2D, MaxPool2D, BatchNormalization, GaussianNoise, Input, Dropout, concatenate\n",
    "from keras import optimizers\n",
    "from keras.preprocessing.image import img_to_array\n",
    "from sklearn.metrics import accuracy_score, f1_score, precision_score, recall_score, classification_report, confusion_matrix\n",
    "import matplotlib.pyplot as plt\n",
    "learning_rate = 0.0002\n",
    "input_shape = (None,None,3)\n",
    "# from keras.applications import ResNet50, VGG16,VGG19\n",
    "import keras.backend as K\n",
    "from keras.backend import tf as ktf\n"
   ]
  },
  {
   "cell_type": "code",
   "execution_count": 2,
   "metadata": {},
   "outputs": [],
   "source": [
    "data_dir = \"../input/\"\n",
    "(x_train, y_train_length, y_train_width, y_train_color, y_train_angle) = (np.load(data_dir +'x_train.npy'), np.load(data_dir+'y_train_length.npy'), np.load(data_dir+'y_train_width.npy'), np.load(data_dir+'y_train_color.npy'), np.load(data_dir+'y_train_angle.npy'))\n",
    "(x_test, y_test_length, y_test_width, y_test_color, y_test_angle) = (np.load(data_dir+'x_test.npy'), np.load(data_dir+'y_test_length.npy'), np.load(data_dir+'y_test_width.npy'), np.load(data_dir+'y_test_color.npy'), np.load(data_dir+'y_test_angle.npy'))"
   ]
  },
  {
   "cell_type": "code",
   "execution_count": 3,
   "metadata": {},
   "outputs": [],
   "source": [
    "def inception_block(x, filters):\n",
    "#     last = x\n",
    "\n",
    "    net1 = Conv2D(filters = filters, kernel_size=(1,1), padding='Same', activation = 'relu')(x)\n",
    "\n",
    "    net2 = Conv2D(filters = filters, kernel_size=(1,1), padding='Same', activation = 'relu')(x)\n",
    "    net2 = Conv2D(filters = filters, kernel_size=(3,3), padding='Same', activation = 'relu')(net2)\n",
    "\n",
    "    net3 = Conv2D(filters = filters, kernel_size=(1,1), padding='Same', activation = 'relu')(x)\n",
    "    net3 = Conv2D(filters = filters, kernel_size=(3,3), padding='Same', activation = 'relu')(net3)\n",
    "    net3 = Conv2D(filters = filters, kernel_size=(3,3), padding='Same', activation = 'relu')(net3)\n",
    "\n",
    "    output = concatenate([net1, net2, net3], axis=3)\n",
    "    return output"
   ]
  },
  {
   "cell_type": "code",
   "execution_count": 4,
   "metadata": {},
   "outputs": [
    {
     "name": "stdout",
     "output_type": "stream",
     "text": [
      "WARNING:tensorflow:From /home/nadeemqwerty/.local/lib/python3.7/site-packages/tensorflow/python/framework/op_def_library.py:263: colocate_with (from tensorflow.python.framework.ops) is deprecated and will be removed in a future version.\n",
      "Instructions for updating:\n",
      "Colocations handled automatically by placer.\n",
      "WARNING:tensorflow:From /home/nadeemqwerty/.local/lib/python3.7/site-packages/keras/backend/tensorflow_backend.py:3445: calling dropout (from tensorflow.python.ops.nn_ops) with keep_prob is deprecated and will be removed in a future version.\n",
      "Instructions for updating:\n",
      "Please use `rate` instead of `keep_prob`. Rate should be set to `rate = 1 - keep_prob`.\n",
      "__________________________________________________________________________________________________\n",
      "Layer (type)                    Output Shape         Param #     Connected to                     \n",
      "==================================================================================================\n",
      "input_1 (InputLayer)            (None, 28, 28, 3)    0                                            \n",
      "__________________________________________________________________________________________________\n",
      "conv2d_1 (Conv2D)               (None, 28, 28, 32)   896         input_1[0][0]                    \n",
      "__________________________________________________________________________________________________\n",
      "conv2d_2 (Conv2D)               (None, 28, 28, 32)   9248        conv2d_1[0][0]                   \n",
      "__________________________________________________________________________________________________\n",
      "batch_normalization_1 (BatchNor (None, 28, 28, 32)   128         conv2d_2[0][0]                   \n",
      "__________________________________________________________________________________________________\n",
      "max_pooling2d_1 (MaxPooling2D)  (None, 12, 12, 32)   0           batch_normalization_1[0][0]      \n",
      "__________________________________________________________________________________________________\n",
      "conv2d_6 (Conv2D)               (None, 12, 12, 32)   1056        max_pooling2d_1[0][0]            \n",
      "__________________________________________________________________________________________________\n",
      "conv2d_4 (Conv2D)               (None, 12, 12, 32)   1056        max_pooling2d_1[0][0]            \n",
      "__________________________________________________________________________________________________\n",
      "conv2d_7 (Conv2D)               (None, 12, 12, 32)   9248        conv2d_6[0][0]                   \n",
      "__________________________________________________________________________________________________\n",
      "conv2d_3 (Conv2D)               (None, 12, 12, 32)   1056        max_pooling2d_1[0][0]            \n",
      "__________________________________________________________________________________________________\n",
      "conv2d_5 (Conv2D)               (None, 12, 12, 32)   9248        conv2d_4[0][0]                   \n",
      "__________________________________________________________________________________________________\n",
      "conv2d_8 (Conv2D)               (None, 12, 12, 32)   9248        conv2d_7[0][0]                   \n",
      "__________________________________________________________________________________________________\n",
      "concatenate_1 (Concatenate)     (None, 12, 12, 96)   0           conv2d_3[0][0]                   \n",
      "                                                                 conv2d_5[0][0]                   \n",
      "                                                                 conv2d_8[0][0]                   \n",
      "__________________________________________________________________________________________________\n",
      "max_pooling2d_2 (MaxPooling2D)  (None, 12, 12, 96)   0           concatenate_1[0][0]              \n",
      "__________________________________________________________________________________________________\n",
      "flatten_1 (Flatten)             (None, 13824)        0           max_pooling2d_2[0][0]            \n",
      "__________________________________________________________________________________________________\n",
      "dense_1 (Dense)                 (None, 128)          1769600     flatten_1[0][0]                  \n",
      "__________________________________________________________________________________________________\n",
      "dropout_1 (Dropout)             (None, 128)          0           dense_1[0][0]                    \n",
      "__________________________________________________________________________________________________\n",
      "dropout_2 (Dropout)             (None, 13824)        0           flatten_1[0][0]                  \n",
      "__________________________________________________________________________________________________\n",
      "length (Dense)                  (None, 1)            129         dropout_1[0][0]                  \n",
      "__________________________________________________________________________________________________\n",
      "width (Dense)                   (None, 1)            13825       flatten_1[0][0]                  \n",
      "__________________________________________________________________________________________________\n",
      "color (Dense)                   (None, 1)            13825       flatten_1[0][0]                  \n",
      "__________________________________________________________________________________________________\n",
      "angle (Dense)                   (None, 12)           165900      dropout_2[0][0]                  \n",
      "==================================================================================================\n",
      "Total params: 2,004,463\n",
      "Trainable params: 2,004,399\n",
      "Non-trainable params: 64\n",
      "__________________________________________________________________________________________________\n"
     ]
    }
   ],
   "source": [
    "input_tensor = Input(shape=(28, 28, 3))\n",
    "\n",
    "x = Conv2D(filters = 32, kernel_size=(3,3), padding='Same', activation = 'relu')(input_tensor)\n",
    "x = Conv2D(filters = 32, kernel_size=(3,3), padding='Same', activation = 'relu')(x)\n",
    "x = BatchNormalization()(x)\n",
    "x = MaxPool2D(pool_size=(5, 5), strides=(2,2))(x)\n",
    "\n",
    "x = inception_block(x,32)\n",
    "x = MaxPool2D(pool_size=(3, 3), strides=(1,1),padding='Same')(x)\n",
    "x = Flatten()(x)\n",
    "\n",
    "length = Dense(128, activation = 'sigmoid')(x)\n",
    "length = Dropout(0.25)(length)\n",
    "length = Dense(1, activation = 'sigmoid',name = 'length')(length)\n",
    "\n",
    "width = Dense(1, activation = 'sigmoid',name = 'width')(x)\n",
    "\n",
    "color = Dense(1, activation = 'sigmoid',name = 'color')(x)\n",
    "\n",
    "angle = Dense(256, activation = 'softmax',name = 'angle')(x)\n",
    "angle = Dropout(0.5)(x)\n",
    "angle = Dense(12, activation = 'softmax',name = 'angle')(angle)\n",
    "\n",
    "model = Model(input_tensor,[length, width, color, angle] )\n",
    "model.summary()"
   ]
  },
  {
   "cell_type": "code",
   "execution_count": 5,
   "metadata": {},
   "outputs": [],
   "source": [
    "# epochs = 12\n",
    "\n",
    "# dataset_len = x_train.shape[0]\n",
    "# decay_rate = learning_rate / ((dataset_len / batch_size) * epochs)\n",
    "\n",
    "# optimizer = optimizers.Adam(learning_rate, 0.5, decay=decay_rate)\n",
    "loss = ['binary_crossentropy', 'binary_crossentropy', 'binary_crossentropy', 'sparse_categorical_crossentropy']\n",
    "loss_weights = [0.1, 0.1, 0.1, 2.0]\n",
    "model.compile(optimizer='adam',\n",
    "              loss=loss,\n",
    "              loss_weights = loss_weights,\n",
    "              metrics=['accuracy'])\n",
    "# len(labels[1])"
   ]
  },
  {
   "cell_type": "code",
   "execution_count": 7,
   "metadata": {
    "scrolled": false
   },
   "outputs": [
    {
     "name": "stdout",
     "output_type": "stream",
     "text": [
      "WARNING:tensorflow:From /home/nadeemqwerty/.local/lib/python3.7/site-packages/tensorflow/python/ops/math_ops.py:3066: to_int32 (from tensorflow.python.ops.math_ops) is deprecated and will be removed in a future version.\n",
      "Instructions for updating:\n",
      "Use tf.cast instead.\n",
      "Epoch 1/12\n",
      "57600/57600 [==============================] - 25s 442us/step - loss: 0.6880 - length_loss: 0.0739 - width_loss: 0.0760 - color_loss: 0.0371 - angle_loss: 0.3347 - length_acc: 0.9760 - width_acc: 0.9766 - color_acc: 0.9936 - angle_acc: 0.8918\n",
      "Epoch 2/12\n",
      "57600/57600 [==============================] - 24s 411us/step - loss: 0.0774 - length_loss: 0.0119 - width_loss: 0.0189 - color_loss: 0.0109 - angle_loss: 0.0366 - length_acc: 0.9978 - width_acc: 0.9944 - color_acc: 0.9972 - angle_acc: 0.9899\n",
      "Epoch 3/12\n",
      "57600/57600 [==============================] - 24s 411us/step - loss: 0.0553 - length_loss: 0.0125 - width_loss: 0.0179 - color_loss: 0.0122 - angle_loss: 0.0255 - length_acc: 0.9968 - width_acc: 0.9951 - color_acc: 0.9965 - angle_acc: 0.9934\n",
      "Epoch 4/12\n",
      "57600/57600 [==============================] - 24s 419us/step - loss: 0.0465 - length_loss: 0.0079 - width_loss: 0.0183 - color_loss: 0.0125 - angle_loss: 0.0213 - length_acc: 0.9979 - width_acc: 0.9951 - color_acc: 0.9962 - angle_acc: 0.9953\n",
      "Epoch 5/12\n",
      "57600/57600 [==============================] - 24s 416us/step - loss: 0.0193 - length_loss: 0.0045 - width_loss: 0.0101 - color_loss: 0.0048 - angle_loss: 0.0087 - length_acc: 0.9990 - width_acc: 0.9976 - color_acc: 0.9985 - angle_acc: 0.9981\n",
      "Epoch 6/12\n",
      "57600/57600 [==============================] - 24s 413us/step - loss: 0.0483 - length_loss: 0.0071 - width_loss: 0.0151 - color_loss: 0.0111 - angle_loss: 0.0225 - length_acc: 0.9979 - width_acc: 0.9964 - color_acc: 0.9969 - angle_acc: 0.9955\n",
      "Epoch 7/12\n",
      "57600/57600 [==============================] - 24s 410us/step - loss: 0.0195 - length_loss: 0.0029 - width_loss: 0.0040 - color_loss: 0.0078 - angle_loss: 0.0090 - length_acc: 0.9992 - width_acc: 0.9989 - color_acc: 0.9981 - angle_acc: 0.9982\n",
      "Epoch 8/12\n",
      "57600/57600 [==============================] - 24s 414us/step - loss: 0.0184 - length_loss: 0.0027 - width_loss: 0.0061 - color_loss: 0.0089 - angle_loss: 0.0083 - length_acc: 0.9995 - width_acc: 0.9986 - color_acc: 0.9977 - angle_acc: 0.9985\n",
      "Epoch 9/12\n",
      "57600/57600 [==============================] - 24s 413us/step - loss: 0.0247 - length_loss: 0.0037 - width_loss: 0.0104 - color_loss: 0.0077 - angle_loss: 0.0113 - length_acc: 0.9989 - width_acc: 0.9977 - color_acc: 0.9982 - angle_acc: 0.9979\n",
      "Epoch 10/12\n",
      "57600/57600 [==============================] - 24s 410us/step - loss: 0.0389 - length_loss: 0.0033 - width_loss: 0.0077 - color_loss: 0.0118 - angle_loss: 0.0183 - length_acc: 0.9990 - width_acc: 0.9984 - color_acc: 0.9977 - angle_acc: 0.9977\n",
      "Epoch 11/12\n",
      "57600/57600 [==============================] - 23s 408us/step - loss: 0.0238 - length_loss: 0.0023 - width_loss: 0.0156 - color_loss: 0.0150 - angle_loss: 0.0103 - length_acc: 0.9993 - width_acc: 0.9978 - color_acc: 0.9981 - angle_acc: 0.9984\n",
      "Epoch 12/12\n",
      "57600/57600 [==============================] - 24s 419us/step - loss: 0.0080 - length_loss: 0.0014 - width_loss: 0.0041 - color_loss: 0.0032 - angle_loss: 0.0036 - length_acc: 0.9995 - width_acc: 0.9991 - color_acc: 0.9994 - angle_acc: 0.9994\n"
     ]
    }
   ],
   "source": [
    "history = model.fit(x_train, [y_train_length, y_train_width, y_train_color, y_train_angle], epochs=epochs, batch_size=batch_size, shuffle=True,verbose=1)\n",
    "model.save_weights(\"line_2_final.h5\")"
   ]
  },
  {
   "cell_type": "code",
   "execution_count": 8,
   "metadata": {},
   "outputs": [
    {
     "name": "stdout",
     "output_type": "stream",
     "text": [
      "38400/38400 [==============================] - 4s 107us/step\n"
     ]
    },
    {
     "data": {
      "text/plain": [
       "[0.008823710792826395,\n",
       " 0.002945333501093123,\n",
       " 0.04352974240705242,\n",
       " 0.002240972957864287,\n",
       " 0.0019760529467339437,\n",
       " 0.9991145833333334,\n",
       " 0.9900260416666666,\n",
       " 0.9996354166666667,\n",
       " 0.999375]"
      ]
     },
     "execution_count": 8,
     "metadata": {},
     "output_type": "execute_result"
    }
   ],
   "source": [
    "model.evaluate(x_test, [y_test_length, y_test_width, y_test_color, y_test_angle])"
   ]
  },
  {
   "cell_type": "code",
   "execution_count": 21,
   "metadata": {},
   "outputs": [],
   "source": [
    "def plot_history(history):\n",
    "\thist = pd.DataFrame(history.history)\n",
    "\thist['epoch'] = history.epoch\n",
    "\tplt.figure()\n",
    "\tplt.xlabel('Epoch')\n",
    "\tplt.ylabel('Loss')\n",
    "\tplt.plot(hist['epoch'], hist['length_loss'],\n",
    "\t       label='Length Loss')\n",
    "\tplt.plot(hist['epoch'], hist['width_loss'],\n",
    "\t       label='Width Loss')\n",
    "\tplt.plot(hist['epoch'], hist['color_loss'],\n",
    "\t       label='Color Loss')\n",
    "\tplt.plot(hist['epoch'], hist['angle_loss'],\n",
    "\t       label='Angle Loss')\n",
    "\tplt.plot(hist['epoch'], hist['loss'],\n",
    "\t       label='Train Loss')\n",
    "# \tplt.ylim([0,1])\n",
    "\tplt.legend()\n",
    "\tplt.savefig('loss_plot.png')\n",
    "\n",
    "\tplt.figure()\n",
    "\tplt.xlabel('Epoch')\n",
    "\tplt.ylabel('Accuracy')\n",
    "\n",
    "\tplt.plot(hist['epoch'], hist['length_acc'],\n",
    "\t       label='Length Acc')\n",
    "\tplt.plot(hist['epoch'], hist['width_acc'],\n",
    "\t       label='Width Acc')\n",
    "\tplt.plot(hist['epoch'], hist['color_acc'],\n",
    "\t       label='Color Acc')\n",
    "\tplt.plot(hist['epoch'], hist['angle_acc'],\n",
    "\t       label='Angle Acc')\n",
    "# \tplt.ylim([0,1])\n",
    "\tplt.legend()\n",
    "\tplt.savefig('acc_plot.png')\n",
    "#"
   ]
  },
  {
   "cell_type": "code",
   "execution_count": 22,
   "metadata": {},
   "outputs": [
    {
     "data": {
      "image/png": "[encoded data removed]",
      "text/plain": [
       "<Figure size 432x288 with 1 Axes>"
      ]
     },
     "metadata": {
      "needs_background": "light"
     },
     "output_type": "display_data"
    },
    {
     "data": {
      "image/png": "[encoded data removed]",
      "text/plain": [
       "<Figure size 432x288 with 1 Axes>"
      ]
     },
     "metadata": {
      "needs_background": "light"
     },
     "output_type": "display_data"
    }
   ],
   "source": [
    "plot_history(history)"
   ]
  },
  {
   "cell_type": "code",
   "execution_count": 24,
   "metadata": {},
   "outputs": [],
   "source": [
    "keras.utils.plot_model(\n",
    "    model,\n",
    "    to_file='model.png',\n",
    "    show_shapes=True,\n",
    "#     show_layer_names=True,\n",
    "#     rankdir='TB'\n",
    ")\n"
   ]
  },
  {
   "cell_type": "code",
   "execution_count": 53,
   "metadata": {},
   "outputs": [],
   "source": [
    "pred = model.predict(x_test)"
   ]
  },
  {
   "cell_type": "code",
   "execution_count": 54,
   "metadata": {},
   "outputs": [],
   "source": [
    "# pred[0][5]"
   ]
  },
  {
   "cell_type": "code",
   "execution_count": 55,
   "metadata": {},
   "outputs": [
    {
     "data": {
      "image/png": "[encoded data removed]",
      "text/plain": [
       "<Figure size 288x288 with 2 Axes>"
      ]
     },
     "metadata": {
      "needs_background": "light"
     },
     "output_type": "display_data"
    }
   ],
   "source": [
    "l = pred[0]\n",
    "l[l>=0.5] = 1\n",
    "l[l<0.5] = 0\n",
    "\n",
    "\n",
    "cm_l = confusion_matrix(y_test_length,l)\n",
    "cm_l\n",
    "np.save(\"confusion_matrix_l.npy\",cm_l)\n",
    "plt.matshow(cm_l)\n",
    "plt.colorbar()\n",
    "plt.savefig(\"confusion_l.jpg\")"
   ]
  },
  {
   "cell_type": "code",
   "execution_count": 56,
   "metadata": {},
   "outputs": [
    {
     "data": {
      "image/png": "[encoded data removed]",
      "text/plain": [
       "<Figure size 288x288 with 2 Axes>"
      ]
     },
     "metadata": {
      "needs_background": "light"
     },
     "output_type": "display_data"
    }
   ],
   "source": [
    "w=pred[1]\n",
    "w[w>=0.5] = 1\n",
    "w[w<0.5] = 0\n",
    "\n",
    "cm_w = confusion_matrix(y_test_width,w)\n",
    "np.save(\"confusion_matrix_w.npy\",cm_w)\n",
    "plt.matshow(cm_w)\n",
    "plt.colorbar()\n",
    "plt.savefig(\"confusion_w.jpg\")"
   ]
  },
  {
   "cell_type": "code",
   "execution_count": 57,
   "metadata": {},
   "outputs": [
    {
     "data": {
      "image/png": "[encoded data removed]",
      "text/plain": [
       "<Figure size 288x288 with 2 Axes>"
      ]
     },
     "metadata": {
      "needs_background": "light"
     },
     "output_type": "display_data"
    }
   ],
   "source": [
    "c = pred[2]\n",
    "c[c>=0.5] = 1\n",
    "c[c<0.5] = 0\n",
    "cm_c = confusion_matrix(y_test_color,c)\n",
    "np.save(\"confusion_matrix_c.npy\",cm_c)\n",
    "plt.matshow(cm_c)\n",
    "plt.colorbar()\n",
    "plt.savefig(\"confusion_c.jpg\")"
   ]
  },
  {
   "cell_type": "code",
   "execution_count": 58,
   "metadata": {},
   "outputs": [
    {
     "data": {
      "image/png": "[encoded data removed]",
      "text/plain": [
       "<Figure size 288x288 with 2 Axes>"
      ]
     },
     "metadata": {
      "needs_background": "light"
     },
     "output_type": "display_data"
    }
   ],
   "source": [
    "a = []\n",
    "for i in pred[3]:\n",
    "    x=np.argmax(i)\n",
    "    a.append(x)\n",
    "a = np.array(a)\n",
    "\n",
    "cm_a = confusion_matrix(y_test_angle,a)\n",
    "np.save(\"confusion_matrix_a.npy\",cm_a)\n",
    "plt.matshow(cm_a)\n",
    "plt.colorbar()\n",
    "plt.savefig(\"confusion_a.jpg\")"
   ]
  },
  {
   "cell_type": "code",
   "execution_count": null,
   "metadata": {},
   "outputs": [],
   "source": []
  }
 ],
 "metadata": {
  "kernelspec": {
   "display_name": "Python 3",
   "language": "python",
   "name": "python3"
  },
  "language_info": {
   "codemirror_mode": {
    "name": "ipython",
    "version": 3
   },
   "file_extension": ".py",
   "mimetype": "text/x-python",
   "name": "python",
   "nbconvert_exporter": "python",
   "pygments_lexer": "ipython3",
   "version": "3.7.1"
  }
 },
 "nbformat": 4,
 "nbformat_minor": 2
}
